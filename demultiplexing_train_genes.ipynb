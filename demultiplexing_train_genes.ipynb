{
 "cells": [
  {
   "cell_type": "code",
   "execution_count": 2,
   "outputs": [],
   "source": [
    "from open_image import Img\n",
    "import train\n",
    "import utils_train\n",
    "\n",
    "%reload_ext autoreload\n",
    "%autoreload 2\n",
    "\n",
    "import seaborn as sns\n",
    "import numpy as np\n",
    "import matplotlib.pyplot as plt\n",
    "import pandas as pd\n",
    "import os\n",
    "import warnings\n",
    "warnings.filterwarnings('ignore')\n",
    "\n",
    "\n"
   ],
   "metadata": {
    "collapsed": false,
    "pycharm": {
     "name": "#%%\n"
    }
   }
  },
  {
   "cell_type": "markdown",
   "source": [
    "## Set paths"
   ],
   "metadata": {
    "collapsed": false,
    "pycharm": {
     "name": "#%% md\n"
    }
   }
  },
  {
   "cell_type": "code",
   "execution_count": 3,
   "outputs": [],
   "source": [
    "fov = 0\n",
    "hyb_list=[2,3,4,5,6]\n",
    "\n",
    "selection_path = r'X:\\sandbox\\for_yed\\new_exp\\gene_selections_fov_0_20_5_24.csv'\n",
    "whole_cell_data_path = r'X:\\danielda\\analysis\\zp_auto_080524_late_exp_100x\\whole_cell_data'\n",
    "demult_path = rf'X:\\danielda\\analysis\\zp_auto_080524_late_exp_100x\\demultiplexing\\genes_fov_{fov}_demult.txt'\n",
    "automation_summary_path = r'C:\\Users\\yedidyab\\Downloads\\automation_summary.xlsx'"
   ],
   "metadata": {
    "collapsed": false,
    "pycharm": {
     "name": "#%%\n"
    }
   }
  },
  {
   "cell_type": "code",
   "execution_count": 4,
   "outputs": [],
   "source": [
    "probs_dict = {\n",
    "    'lib_1': ['R223', 'R224'],\n",
    "    'lib_2': ['R223', 'R225'],\n",
    "    'lib_3': ['R226', 'R227'],\n",
    "    'lib_4': ['R226', 'R228'],\n",
    "    'lib_5': ['R226', 'R230'],\n",
    "    'lib_6': ['R226', 'R231'],\n",
    "    'lib_7': ['R229', 'R227'],\n",
    "    'lib_8': ['R229', 'R228'],\n",
    "    'lib_9': ['R229', 'R231'],\n",
    "    'lib_10': ['R235', 'R236'],\n",
    "    'lib_11': ['R235', 'R237'],\n",
    "    'lib_12': ['R235', 'R239'],\n",
    "    'lib_13': ['R235', 'R240'],\n",
    "    'lib_14': ['R238', 'R236'],\n",
    "    'lib_15': ['R238', 'R237'],\n",
    "    'lib_16': ['R238', 'R239'],\n",
    "    'no_lib': ['R238', 'R240']\n",
    "}\n"
   ],
   "metadata": {
    "collapsed": false,
    "pycharm": {
     "name": "#%%\n"
    }
   }
  },
  {
   "cell_type": "markdown",
   "source": [
    "# Train Genes\n",
    "### load image"
   ],
   "metadata": {
    "collapsed": false,
    "pycharm": {
     "name": "#%% md\n"
    }
   }
  },
  {
   "cell_type": "code",
   "execution_count": 5,
   "outputs": [],
   "source": [
    "hybs = {1: 'ref', 2: 'bc1', 3: 'bc1', 4: 'bc1', 5: 'bc1', 6: 'bc1'}\n",
    "temp = Img(path = r'X:\\danielda\\analysis\\zp_auto_080524_late_exp_100x', fov = fov, automation_summary_path = automation_summary_path, hybs = hybs)\n",
    "\n",
    "to_show = [temp.ref_A647_1,\n",
    "           temp.ref_A488_1,\n",
    "           temp.ref_A550_1,\n",
    "           temp.bc1_A647_2,\n",
    "           temp.bc1_A488_2,\n",
    "           temp.bc1_A550_2,\n",
    "           temp.bc1_A647_3,\n",
    "           temp.bc1_A488_3,\n",
    "           temp.bc1_A550_3,\n",
    "           temp.bc1_A647_4,\n",
    "           temp.bc1_A488_4,\n",
    "           temp.bc1_A550_4,\n",
    "           temp.bc1_A647_5,\n",
    "           temp.bc1_A488_5,\n",
    "           temp.bc1_A550_5,\n",
    "           temp.bc1_A647_6,\n",
    "           temp.bc1_A488_6,\n",
    "           temp.bc1_A550_6]\n",
    "\n",
    "\n",
    "titels  = ['refA647', 'refA488', 'refA550',\n",
    "            'bc1_hyb2_A647_R223', 'bc1_hyb2_A488_R224', 'bc1_hyb2_A550_R225',\n",
    "            'bc1_hyb3_A647_R226', 'bc1_hyb3_A488_R227', 'bc1_hyb3_A550_R228',\n",
    "            'bc1_hyb4_A647_R229', 'bc1_hyb4_A488_R230', 'bc1_hyb4_A550_R231',\n",
    "            'bc1_hyb5_A647_R235', 'bc1_hyb5_A488_R236', 'bc1_hyb5_A550_R237',\n",
    "            'bc1_hyb6_A647_R238', 'bc1_hyb6_A488_R239', 'bc1_hyb6_A550_R240']\n"
   ],
   "metadata": {
    "collapsed": false,
    "pycharm": {
     "name": "#%%\n"
    }
   }
  },
  {
   "cell_type": "markdown",
   "source": [
    "# Label cells"
   ],
   "metadata": {
    "collapsed": false,
    "pycharm": {
     "name": "#%% md\n"
    }
   }
  },
  {
   "cell_type": "code",
   "execution_count": 6,
   "outputs": [
    {
     "name": "stderr",
     "output_type": "stream",
     "text": [
      " 10%|█         | 3/30 [01:19<11:53, 26.44s/it]\n"
     ]
    },
    {
     "ename": "KeyboardInterrupt",
     "evalue": "",
     "output_type": "error",
     "traceback": [
      "\u001B[1;31m---------------------------------------------------------------------------\u001B[0m",
      "\u001B[1;31mKeyboardInterrupt\u001B[0m                         Traceback (most recent call last)",
      "Cell \u001B[1;32mIn[6], line 1\u001B[0m\n\u001B[1;32m----> 1\u001B[0m \u001B[43mtrain\u001B[49m\u001B[38;5;241;43m.\u001B[39;49m\u001B[43mrun\u001B[49m\u001B[43m(\u001B[49m\u001B[43mtemp\u001B[49m\u001B[43m,\u001B[49m\u001B[43m \u001B[49m\u001B[43mtitels\u001B[49m\u001B[43m,\u001B[49m\u001B[43m \u001B[49m\u001B[43mautomation_summary_path\u001B[49m\u001B[43m,\u001B[49m\u001B[43m \u001B[49m\u001B[43mto_show\u001B[49m\u001B[43m,\u001B[49m\u001B[43m \u001B[49m\u001B[43msave_path\u001B[49m\u001B[38;5;241;43m=\u001B[39;49m\u001B[43mselection_path\u001B[49m\u001B[43m,\u001B[49m\u001B[43m \u001B[49m\u001B[43msession_length\u001B[49m\u001B[43m \u001B[49m\u001B[38;5;241;43m=\u001B[39;49m\u001B[43m \u001B[49m\u001B[38;5;241;43m30\u001B[39;49m\u001B[43m,\u001B[49m\u001B[43m \u001B[49m\u001B[43mspace\u001B[49m\u001B[43m \u001B[49m\u001B[38;5;241;43m=\u001B[39;49m\u001B[43m \u001B[49m\u001B[38;5;241;43m5\u001B[39;49m\u001B[43m)\u001B[49m\n",
      "File \u001B[1;32mX:\\sandbox\\for_yed\\new_exp\\train_probs\\train.py:53\u001B[0m, in \u001B[0;36mrun\u001B[1;34m(temp, titels, automation_summary_path, to_show, save_path, session_length, space, idx_list)\u001B[0m\n\u001B[0;32m     51\u001B[0m     plots\u001B[38;5;241m.\u001B[39mappend(temp\u001B[38;5;241m.\u001B[39mplot_random_index(idx, j, space\u001B[38;5;241m=\u001B[39mspace))\n\u001B[0;32m     52\u001B[0m outline \u001B[38;5;241m=\u001B[39m extract_outlines(temp\u001B[38;5;241m.\u001B[39mplot_random_index(idx, temp\u001B[38;5;241m.\u001B[39mmasks, space\u001B[38;5;241m=\u001B[39mspace))\n\u001B[1;32m---> 53\u001B[0m \u001B[43mclick2\u001B[49m\u001B[38;5;241;43m.\u001B[39;49m\u001B[43mselection\u001B[49m\u001B[43m(\u001B[49m\u001B[43mplots\u001B[49m\u001B[43m,\u001B[49m\u001B[43m \u001B[49m\u001B[43mtitels\u001B[49m\u001B[43m,\u001B[49m\u001B[43m \u001B[49m\u001B[43msave_path\u001B[49m\u001B[43m,\u001B[49m\u001B[43m \u001B[49m\u001B[43moutline\u001B[49m\u001B[43m,\u001B[49m\u001B[43m \u001B[49m\u001B[43midx\u001B[49m\u001B[43m)\u001B[49m\n",
      "File \u001B[1;32mX:\\sandbox\\for_yed\\new_exp\\train_probs\\click2.py:119\u001B[0m, in \u001B[0;36mselection\u001B[1;34m(arrays, titles, save_path, outline, index, save_name)\u001B[0m\n\u001B[0;32m    117\u001B[0m     plt\u001B[38;5;241m.\u001B[39msavefig(save_name)\n\u001B[0;32m    118\u001B[0m \u001B[38;5;28;01melse\u001B[39;00m:\n\u001B[1;32m--> 119\u001B[0m     \u001B[43mplt\u001B[49m\u001B[38;5;241;43m.\u001B[39;49m\u001B[43mshow\u001B[49m\u001B[43m(\u001B[49m\u001B[43m)\u001B[49m\n",
      "File \u001B[1;32m~\\Anaconda3\\envs\\piplnew\\lib\\site-packages\\matplotlib\\pyplot.py:421\u001B[0m, in \u001B[0;36mshow\u001B[1;34m(*args, **kwargs)\u001B[0m\n\u001B[0;32m    377\u001B[0m \u001B[38;5;250m\u001B[39m\u001B[38;5;124;03m\"\"\"\u001B[39;00m\n\u001B[0;32m    378\u001B[0m \u001B[38;5;124;03mDisplay all open figures.\u001B[39;00m\n\u001B[0;32m    379\u001B[0m \n\u001B[1;32m   (...)\u001B[0m\n\u001B[0;32m    418\u001B[0m \u001B[38;5;124;03mexplicitly there.\u001B[39;00m\n\u001B[0;32m    419\u001B[0m \u001B[38;5;124;03m\"\"\"\u001B[39;00m\n\u001B[0;32m    420\u001B[0m _warn_if_gui_out_of_main_thread()\n\u001B[1;32m--> 421\u001B[0m \u001B[38;5;28;01mreturn\u001B[39;00m \u001B[43m_get_backend_mod\u001B[49m\u001B[43m(\u001B[49m\u001B[43m)\u001B[49m\u001B[38;5;241;43m.\u001B[39;49m\u001B[43mshow\u001B[49m\u001B[43m(\u001B[49m\u001B[38;5;241;43m*\u001B[39;49m\u001B[43margs\u001B[49m\u001B[43m,\u001B[49m\u001B[43m \u001B[49m\u001B[38;5;241;43m*\u001B[39;49m\u001B[38;5;241;43m*\u001B[39;49m\u001B[43mkwargs\u001B[49m\u001B[43m)\u001B[49m\n",
      "File \u001B[1;32m~\\Anaconda3\\envs\\piplnew\\lib\\site-packages\\matplotlib\\backend_bases.py:3546\u001B[0m, in \u001B[0;36m_Backend.show\u001B[1;34m(cls, block)\u001B[0m\n\u001B[0;32m   3544\u001B[0m     block \u001B[38;5;241m=\u001B[39m \u001B[38;5;129;01mnot\u001B[39;00m ipython_pylab \u001B[38;5;129;01mand\u001B[39;00m \u001B[38;5;129;01mnot\u001B[39;00m is_interactive()\n\u001B[0;32m   3545\u001B[0m \u001B[38;5;28;01mif\u001B[39;00m block:\n\u001B[1;32m-> 3546\u001B[0m     \u001B[38;5;28;43mcls\u001B[39;49m\u001B[38;5;241;43m.\u001B[39;49m\u001B[43mmainloop\u001B[49m\u001B[43m(\u001B[49m\u001B[43m)\u001B[49m\n",
      "File \u001B[1;32m~\\Anaconda3\\envs\\piplnew\\lib\\site-packages\\matplotlib\\backends\\_backend_tk.py:1040\u001B[0m, in \u001B[0;36m_BackendTk.mainloop\u001B[1;34m()\u001B[0m\n\u001B[0;32m   1038\u001B[0m manager_class\u001B[38;5;241m.\u001B[39m_owns_mainloop \u001B[38;5;241m=\u001B[39m \u001B[38;5;28;01mTrue\u001B[39;00m\n\u001B[0;32m   1039\u001B[0m \u001B[38;5;28;01mtry\u001B[39;00m:\n\u001B[1;32m-> 1040\u001B[0m     \u001B[43mfirst_manager\u001B[49m\u001B[38;5;241;43m.\u001B[39;49m\u001B[43mwindow\u001B[49m\u001B[38;5;241;43m.\u001B[39;49m\u001B[43mmainloop\u001B[49m\u001B[43m(\u001B[49m\u001B[43m)\u001B[49m\n\u001B[0;32m   1041\u001B[0m \u001B[38;5;28;01mfinally\u001B[39;00m:\n\u001B[0;32m   1042\u001B[0m     manager_class\u001B[38;5;241m.\u001B[39m_owns_mainloop \u001B[38;5;241m=\u001B[39m \u001B[38;5;28;01mFalse\u001B[39;00m\n",
      "File \u001B[1;32m~\\Anaconda3\\envs\\piplnew\\lib\\tkinter\\__init__.py:1429\u001B[0m, in \u001B[0;36mMisc.mainloop\u001B[1;34m(self, n)\u001B[0m\n\u001B[0;32m   1427\u001B[0m \u001B[38;5;28;01mdef\u001B[39;00m \u001B[38;5;21mmainloop\u001B[39m(\u001B[38;5;28mself\u001B[39m, n\u001B[38;5;241m=\u001B[39m\u001B[38;5;241m0\u001B[39m):\n\u001B[0;32m   1428\u001B[0m \u001B[38;5;250m    \u001B[39m\u001B[38;5;124;03m\"\"\"Call the mainloop of Tk.\"\"\"\u001B[39;00m\n\u001B[1;32m-> 1429\u001B[0m     \u001B[38;5;28;43mself\u001B[39;49m\u001B[38;5;241;43m.\u001B[39;49m\u001B[43mtk\u001B[49m\u001B[38;5;241;43m.\u001B[39;49m\u001B[43mmainloop\u001B[49m\u001B[43m(\u001B[49m\u001B[43mn\u001B[49m\u001B[43m)\u001B[49m\n",
      "\u001B[1;31mKeyboardInterrupt\u001B[0m: "
     ]
    }
   ],
   "source": [
    "train.run(temp, titels, automation_summary_path, to_show, save_path=selection_path, session_length = 30, space = 5)"
   ],
   "metadata": {
    "collapsed": false,
    "pycharm": {
     "name": "#%%\n"
    }
   }
  },
  {
   "cell_type": "markdown",
   "source": [
    "# Build training df"
   ],
   "metadata": {
    "collapsed": false,
    "pycharm": {
     "name": "#%% md\n"
    }
   }
  },
  {
   "cell_type": "code",
   "execution_count": 6,
   "outputs": [
    {
     "data": {
      "text/plain": "     Index  bc1_hyb2_A488_R224  bc1_hyb2_A550_R225  bc1_hyb2_A647_R223  \\\n0      211                   0                   0                   0   \n1     1779                   0                   0                   0   \n2     2197                   0                   0                   0   \n3     1904                   0                   0                   0   \n4     1436                   0                   0                   0   \n..     ...                 ...                 ...                 ...   \n209   2508                   0                   0                   0   \n210   2852                   0                   0                   0   \n211    178                   0                   0                   0   \n212   3421                   0                   0                   0   \n213   1365                   0                   0                   0   \n\n     bc1_hyb3_A488_R227  bc1_hyb3_A550_R228  bc1_hyb3_A647_R226  \\\n0                     0                   0                   0   \n1                     1                   0                   1   \n2                     0                   0                   0   \n3                     0                   0                   0   \n4                     0                   0                   0   \n..                  ...                 ...                 ...   \n209                   0                   1                   1   \n210                   0                   0                   0   \n211                   0                   1                   0   \n212                   0                   0                   0   \n213                   1                   0                   1   \n\n     bc1_hyb4_A488_R230  bc1_hyb4_A550_R231  bc1_hyb4_A647_R229  ...  \\\n0                     0                   0                   0  ...   \n1                     0                   0                   0  ...   \n2                     0                   0                   0  ...   \n3                     0                   0                   0  ...   \n4                     0                   0                   0  ...   \n..                  ...                 ...                 ...  ...   \n209                   0                   0                   0  ...   \n210                   0                   0                   0  ...   \n211                   0                   0                   1  ...   \n212                   0                   0                   0  ...   \n213                   0                   0                   0  ...   \n\n       R228.1    R229.1    R230.1    R231.1    R235.1    R236.1    R237.1  \\\n0    0.020199  0.039512  0.098675  0.024344  0.035970  0.109859  1.052903   \n1    0.047520  0.069585  0.148772  0.038515  0.073739  0.093539  0.062433   \n2    0.022931  0.047306  0.106736  0.024819  0.044062  0.095587  0.043434   \n3    0.123034  0.381400  0.214736  0.077671  1.800026  0.223500  0.078147   \n4    0.544411  0.608349  0.719899  0.412698  0.672106  0.694710  0.832827   \n..        ...       ...       ...       ...       ...       ...       ...   \n209  3.521097  0.158884  0.237358  0.226200  0.123861  0.230134  0.094440   \n210  0.017523  0.023887  0.052987  0.015696  0.482064  1.285663  0.012677   \n211  1.536644  1.460231  0.079358  0.058026  0.098699  0.067207  0.018849   \n212  0.023566  0.025415  0.066875  0.014747  0.527993  1.362166  0.017584   \n213  0.036994  0.120661  0.133672  0.027699  0.067742  0.130650  0.024240   \n\n       R238.1    R239.1    R240.1  \n0    1.146100  0.103665  0.018748  \n1    0.063337  0.105221  0.023156  \n2    0.914258  0.142044  0.754474  \n3    0.163271  1.927691  0.058134  \n4    0.707400  0.740050  0.430598  \n..        ...       ...       ...  \n209  0.232489  0.293774  0.077228  \n210  0.033221  0.082019  0.010866  \n211  0.038350  0.085809  0.013574  \n212  0.032813  0.115329  0.010753  \n213  0.062769  0.145350  0.020103  \n\n[214 rows x 106 columns]",
      "text/html": "<div>\n<style scoped>\n    .dataframe tbody tr th:only-of-type {\n        vertical-align: middle;\n    }\n\n    .dataframe tbody tr th {\n        vertical-align: top;\n    }\n\n    .dataframe thead th {\n        text-align: right;\n    }\n</style>\n<table border=\"1\" class=\"dataframe\">\n  <thead>\n    <tr style=\"text-align: right;\">\n      <th></th>\n      <th>Index</th>\n      <th>bc1_hyb2_A488_R224</th>\n      <th>bc1_hyb2_A550_R225</th>\n      <th>bc1_hyb2_A647_R223</th>\n      <th>bc1_hyb3_A488_R227</th>\n      <th>bc1_hyb3_A550_R228</th>\n      <th>bc1_hyb3_A647_R226</th>\n      <th>bc1_hyb4_A488_R230</th>\n      <th>bc1_hyb4_A550_R231</th>\n      <th>bc1_hyb4_A647_R229</th>\n      <th>...</th>\n      <th>R228.1</th>\n      <th>R229.1</th>\n      <th>R230.1</th>\n      <th>R231.1</th>\n      <th>R235.1</th>\n      <th>R236.1</th>\n      <th>R237.1</th>\n      <th>R238.1</th>\n      <th>R239.1</th>\n      <th>R240.1</th>\n    </tr>\n  </thead>\n  <tbody>\n    <tr>\n      <th>0</th>\n      <td>211</td>\n      <td>0</td>\n      <td>0</td>\n      <td>0</td>\n      <td>0</td>\n      <td>0</td>\n      <td>0</td>\n      <td>0</td>\n      <td>0</td>\n      <td>0</td>\n      <td>...</td>\n      <td>0.020199</td>\n      <td>0.039512</td>\n      <td>0.098675</td>\n      <td>0.024344</td>\n      <td>0.035970</td>\n      <td>0.109859</td>\n      <td>1.052903</td>\n      <td>1.146100</td>\n      <td>0.103665</td>\n      <td>0.018748</td>\n    </tr>\n    <tr>\n      <th>1</th>\n      <td>1779</td>\n      <td>0</td>\n      <td>0</td>\n      <td>0</td>\n      <td>1</td>\n      <td>0</td>\n      <td>1</td>\n      <td>0</td>\n      <td>0</td>\n      <td>0</td>\n      <td>...</td>\n      <td>0.047520</td>\n      <td>0.069585</td>\n      <td>0.148772</td>\n      <td>0.038515</td>\n      <td>0.073739</td>\n      <td>0.093539</td>\n      <td>0.062433</td>\n      <td>0.063337</td>\n      <td>0.105221</td>\n      <td>0.023156</td>\n    </tr>\n    <tr>\n      <th>2</th>\n      <td>2197</td>\n      <td>0</td>\n      <td>0</td>\n      <td>0</td>\n      <td>0</td>\n      <td>0</td>\n      <td>0</td>\n      <td>0</td>\n      <td>0</td>\n      <td>0</td>\n      <td>...</td>\n      <td>0.022931</td>\n      <td>0.047306</td>\n      <td>0.106736</td>\n      <td>0.024819</td>\n      <td>0.044062</td>\n      <td>0.095587</td>\n      <td>0.043434</td>\n      <td>0.914258</td>\n      <td>0.142044</td>\n      <td>0.754474</td>\n    </tr>\n    <tr>\n      <th>3</th>\n      <td>1904</td>\n      <td>0</td>\n      <td>0</td>\n      <td>0</td>\n      <td>0</td>\n      <td>0</td>\n      <td>0</td>\n      <td>0</td>\n      <td>0</td>\n      <td>0</td>\n      <td>...</td>\n      <td>0.123034</td>\n      <td>0.381400</td>\n      <td>0.214736</td>\n      <td>0.077671</td>\n      <td>1.800026</td>\n      <td>0.223500</td>\n      <td>0.078147</td>\n      <td>0.163271</td>\n      <td>1.927691</td>\n      <td>0.058134</td>\n    </tr>\n    <tr>\n      <th>4</th>\n      <td>1436</td>\n      <td>0</td>\n      <td>0</td>\n      <td>0</td>\n      <td>0</td>\n      <td>0</td>\n      <td>0</td>\n      <td>0</td>\n      <td>0</td>\n      <td>0</td>\n      <td>...</td>\n      <td>0.544411</td>\n      <td>0.608349</td>\n      <td>0.719899</td>\n      <td>0.412698</td>\n      <td>0.672106</td>\n      <td>0.694710</td>\n      <td>0.832827</td>\n      <td>0.707400</td>\n      <td>0.740050</td>\n      <td>0.430598</td>\n    </tr>\n    <tr>\n      <th>...</th>\n      <td>...</td>\n      <td>...</td>\n      <td>...</td>\n      <td>...</td>\n      <td>...</td>\n      <td>...</td>\n      <td>...</td>\n      <td>...</td>\n      <td>...</td>\n      <td>...</td>\n      <td>...</td>\n      <td>...</td>\n      <td>...</td>\n      <td>...</td>\n      <td>...</td>\n      <td>...</td>\n      <td>...</td>\n      <td>...</td>\n      <td>...</td>\n      <td>...</td>\n      <td>...</td>\n    </tr>\n    <tr>\n      <th>209</th>\n      <td>2508</td>\n      <td>0</td>\n      <td>0</td>\n      <td>0</td>\n      <td>0</td>\n      <td>1</td>\n      <td>1</td>\n      <td>0</td>\n      <td>0</td>\n      <td>0</td>\n      <td>...</td>\n      <td>3.521097</td>\n      <td>0.158884</td>\n      <td>0.237358</td>\n      <td>0.226200</td>\n      <td>0.123861</td>\n      <td>0.230134</td>\n      <td>0.094440</td>\n      <td>0.232489</td>\n      <td>0.293774</td>\n      <td>0.077228</td>\n    </tr>\n    <tr>\n      <th>210</th>\n      <td>2852</td>\n      <td>0</td>\n      <td>0</td>\n      <td>0</td>\n      <td>0</td>\n      <td>0</td>\n      <td>0</td>\n      <td>0</td>\n      <td>0</td>\n      <td>0</td>\n      <td>...</td>\n      <td>0.017523</td>\n      <td>0.023887</td>\n      <td>0.052987</td>\n      <td>0.015696</td>\n      <td>0.482064</td>\n      <td>1.285663</td>\n      <td>0.012677</td>\n      <td>0.033221</td>\n      <td>0.082019</td>\n      <td>0.010866</td>\n    </tr>\n    <tr>\n      <th>211</th>\n      <td>178</td>\n      <td>0</td>\n      <td>0</td>\n      <td>0</td>\n      <td>0</td>\n      <td>1</td>\n      <td>0</td>\n      <td>0</td>\n      <td>0</td>\n      <td>1</td>\n      <td>...</td>\n      <td>1.536644</td>\n      <td>1.460231</td>\n      <td>0.079358</td>\n      <td>0.058026</td>\n      <td>0.098699</td>\n      <td>0.067207</td>\n      <td>0.018849</td>\n      <td>0.038350</td>\n      <td>0.085809</td>\n      <td>0.013574</td>\n    </tr>\n    <tr>\n      <th>212</th>\n      <td>3421</td>\n      <td>0</td>\n      <td>0</td>\n      <td>0</td>\n      <td>0</td>\n      <td>0</td>\n      <td>0</td>\n      <td>0</td>\n      <td>0</td>\n      <td>0</td>\n      <td>...</td>\n      <td>0.023566</td>\n      <td>0.025415</td>\n      <td>0.066875</td>\n      <td>0.014747</td>\n      <td>0.527993</td>\n      <td>1.362166</td>\n      <td>0.017584</td>\n      <td>0.032813</td>\n      <td>0.115329</td>\n      <td>0.010753</td>\n    </tr>\n    <tr>\n      <th>213</th>\n      <td>1365</td>\n      <td>0</td>\n      <td>0</td>\n      <td>0</td>\n      <td>1</td>\n      <td>0</td>\n      <td>1</td>\n      <td>0</td>\n      <td>0</td>\n      <td>0</td>\n      <td>...</td>\n      <td>0.036994</td>\n      <td>0.120661</td>\n      <td>0.133672</td>\n      <td>0.027699</td>\n      <td>0.067742</td>\n      <td>0.130650</td>\n      <td>0.024240</td>\n      <td>0.062769</td>\n      <td>0.145350</td>\n      <td>0.020103</td>\n    </tr>\n  </tbody>\n</table>\n<p>214 rows × 106 columns</p>\n</div>"
     },
     "execution_count": 6,
     "metadata": {},
     "output_type": "execute_result"
    }
   ],
   "source": [
    "whole_cell_data = utils_train.concat_files(fov_list=[fov], hyb_list=hyb_list, directory_path=whole_cell_data_path)\n",
    "whole_cell_data = whole_cell_data.reindex(sorted(whole_cell_data.columns), axis=1)\n",
    "selections = pd.read_csv(selection_path).drop(['refA647', 'refA488', 'refA550'], axis=1)\n",
    "selections = selections.reindex(sorted(selections.columns), axis=1)\n",
    "df1 = selections.merge(whole_cell_data, left_on='Index', right_on='cell_id')\n",
    "demult = pd.read_csv(demult_path, sep='\\t')\n",
    "df = df1.merge(demult, left_on='Index', right_on='cell_id').drop(['cell_id', 'sample_name'], axis=1)\n",
    "df"
   ],
   "metadata": {
    "collapsed": false,
    "pycharm": {
     "name": "#%%\n"
    }
   }
  },
  {
   "cell_type": "markdown",
   "source": [
    "# Train new model"
   ],
   "metadata": {
    "collapsed": false,
    "pycharm": {
     "name": "#%% md\n"
    }
   }
  },
  {
   "cell_type": "code",
   "execution_count": 8,
   "outputs": [
    {
     "name": "stdout",
     "output_type": "stream",
     "text": [
      "mean absolute error for each target variable: [0. 0. 0. 0. 0.]\n",
      "mean absolute error for each target variable: [0. 0. 0. 0. 0.]\n",
      "mean absolute error for each target variable: [0.02325581 0.02325581 0.         0.         0.        ]\n"
     ]
    }
   ],
   "source": [
    "A647_random_forest_model, A647_pred_df = utils_train.create_model(df, automation_summary_path = automation_summary_path, channel = 'A647', hyb_list = hyb_list)\n",
    "A488_random_forest_model, A488_pred_df = utils_train.create_model(df, automation_summary_path = automation_summary_path, channel = 'A488', hyb_list = hyb_list)\n",
    "A550_random_forest_model, A550_pred_df = utils_train.create_model(df, automation_summary_path = automation_summary_path, channel = 'A550', hyb_list = hyb_list)\n",
    "model_zoo = [A647_random_forest_model, A488_random_forest_model, A550_random_forest_model]\n",
    "eval_dfs = [A647_pred_df, A488_pred_df, A550_pred_df]"
   ],
   "metadata": {
    "collapsed": false,
    "pycharm": {
     "name": "#%%\n"
    }
   }
  },
  {
   "cell_type": "markdown",
   "source": [
    "# build evaluation df"
   ],
   "metadata": {
    "collapsed": false,
    "pycharm": {
     "name": "#%% md\n"
    }
   }
  },
  {
   "cell_type": "code",
   "execution_count": 9,
   "outputs": [
    {
     "data": {
      "text/plain": "    cell_id  bc1_hyb2_A488_R224  bc1_hyb2_A550_R225  bc1_hyb2_A647_R223  \\\n0       937                   0                   0                   0   \n1       548                   0                   0                   0   \n2       801                   0                   0                   0   \n3      2877                   1                   0                   1   \n4       981                   1                   0                   1   \n5      1638                   0                   0                   0   \n6      2535                   0                   0                   0   \n7      1397                   0                   0                   0   \n8       208                   0                   0                   0   \n9      1732                   0                   1                   1   \n10     3088                   0                   1                   1   \n11      570                   0                   0                   0   \n12      212                   0                   0                   0   \n13      201                   0                   0                   0   \n14     3279                   0                   1                   1   \n15     1151                   0                   1                   1   \n16     3067                   0                   0                   0   \n17     2794                   0                   0                   0   \n18     1093                   0                   0                   0   \n19     3262                   0                   0                   0   \n20     3419                   0                   0                   0   \n21     2857                   0                   0                   0   \n22      445                   0                   0                   0   \n23       26                   0                   0                   0   \n24     1067                   0                   0                   0   \n25     2992                   0                   0                   0   \n26     2954                   0                   0                   0   \n27     3751                   0                   0                   0   \n28     1436                   0                   0                   0   \n29     2256                   0                   0                   0   \n30       64                   0                   0                   0   \n31      211                   0                   0                   0   \n32     1228                   0                   0                   0   \n33     2262                   1                   0                   1   \n34     3223                   1                   0                   1   \n35     2824                   0                   0                   0   \n36     3594                   0                   1                   1   \n37      674                   0                   0                   0   \n38     3232                   0                   0                   0   \n39     1462                   0                   0                   0   \n40      221                   0                   0                   0   \n41      880                   0                   0                   0   \n42     3647                   0                   0                   0   \n\n    bc1_hyb3_A488_R227  bc1_hyb3_A550_R228  bc1_hyb3_A647_R226  \\\n0                    1                   0                   0   \n1                    0                   0                   1   \n2                    0                   0                   0   \n3                    0                   0                   0   \n4                    0                   0                   0   \n5                    0                   0                   0   \n6                    0                   1                   1   \n7                    1                   0                   1   \n8                    0                   0                   1   \n9                    0                   0                   0   \n10                   0                   0                   0   \n11                   0                   0                   0   \n12                   0                   0                   0   \n13                   0                   0                   0   \n14                   0                   0                   0   \n15                   0                   0                   0   \n16                   0                   0                   0   \n17                   1                   0                   1   \n18                   0                   0                   0   \n19                   1                   0                   1   \n20                   0                   0                   0   \n21                   0                   0                   0   \n22                   0                   1                   1   \n23                   0                   0                   1   \n24                   0                   0                   0   \n25                   0                   0                   0   \n26                   0                   0                   1   \n27                   1                   0                   0   \n28                   0                   0                   0   \n29                   0                   0                   0   \n30                   0                   1                   0   \n31                   0                   0                   0   \n32                   0                   0                   0   \n33                   0                   0                   0   \n34                   0                   0                   0   \n35                   0                   0                   0   \n36                   0                   0                   0   \n37                   1                   0                   1   \n38                   0                   0                   1   \n39                   0                   0                   1   \n40                   0                   1                   0   \n41                   0                   0                   0   \n42                   0                   1                   1   \n\n    bc1_hyb4_A488_R230  bc1_hyb4_A550_R231  bc1_hyb4_A647_R229  ...  \\\n0                    0                   0                   1  ...   \n1                    1                   0                   0  ...   \n2                    0                   0                   0  ...   \n3                    0                   0                   0  ...   \n4                    0                   0                   0  ...   \n5                    0                   0                   0  ...   \n6                    0                   0                   0  ...   \n7                    0                   0                   0  ...   \n8                    1                   0                   0  ...   \n9                    0                   0                   0  ...   \n10                   0                   0                   0  ...   \n11                   0                   0                   0  ...   \n12                   0                   0                   0  ...   \n13                   0                   0                   0  ...   \n14                   0                   0                   0  ...   \n15                   0                   0                   0  ...   \n16                   0                   0                   0  ...   \n17                   0                   0                   0  ...   \n18                   0                   0                   0  ...   \n19                   0                   0                   0  ...   \n20                   0                   0                   0  ...   \n21                   0                   0                   0  ...   \n22                   0                   0                   0  ...   \n23                   0                   1                   0  ...   \n24                   0                   0                   0  ...   \n25                   0                   0                   0  ...   \n26                   1                   0                   0  ...   \n27                   0                   0                   1  ...   \n28                   0                   0                   0  ...   \n29                   0                   0                   0  ...   \n30                   0                   0                   0  ...   \n31                   0                   0                   0  ...   \n32                   0                   0                   0  ...   \n33                   0                   0                   0  ...   \n34                   0                   0                   0  ...   \n35                   0                   0                   0  ...   \n36                   0                   0                   0  ...   \n37                   0                   0                   0  ...   \n38                   1                   0                   0  ...   \n39                   0                   1                   0  ...   \n40                   0                   0                   1  ...   \n41                   0                   0                   0  ...   \n42                   0                   0                   0  ...   \n\n    R226_diff  R230_diff  R231_diff  R229_diff  R236_diff  R237_diff  \\\n0        0.00       0.00       0.00       0.00       0.00       0.00   \n1        0.00      -0.04       0.00       0.00       0.00       0.00   \n2        0.00       0.00       0.00       0.00       0.00       0.00   \n3        0.00       0.00       0.00       0.00       0.00       0.00   \n4        0.00       0.00       0.00       0.00       0.00       0.00   \n5        0.00       0.00       0.00       0.03      -0.01       0.00   \n6        0.00       0.00       0.00       0.00       0.00       0.00   \n7        0.00       0.00       0.00       0.00       0.00       0.00   \n8        0.00      -0.01       0.02       0.00       0.00       0.00   \n9        0.00       0.00       0.00       0.00       0.00       0.00   \n10       0.00       0.00       0.00       0.00       0.00       0.00   \n11       0.00       0.00       0.00       0.00       0.01       0.00   \n12       0.00       0.00       0.06       0.00       0.00      -0.18   \n13       0.00       0.00       0.00       0.00       0.00       0.00   \n14       0.00       0.01       0.00       0.00       0.00       0.00   \n15       0.00       0.00       0.02       0.00       0.00       0.00   \n16       0.00       0.00       0.00       0.01       0.00       0.00   \n17       0.00       0.00       0.00       0.00       0.00       0.00   \n18       0.00       0.00       0.00       0.00       0.00       0.00   \n19       0.00       0.00       0.00       0.00       0.00       0.00   \n20       0.00       0.00       0.00       0.00       0.00       0.00   \n21       0.00       0.00       0.00       0.00       0.00       0.01   \n22       0.00       0.00       0.00       0.00       0.00       0.00   \n23      -0.06       0.00      -0.39       0.01       0.00       0.00   \n24       0.00       0.00       0.00       0.00       0.00       0.00   \n25       0.00       0.00       0.00       0.00       0.00       0.00   \n26      -0.03      -0.10       0.01       0.00       0.00       0.00   \n27       0.00       0.00       0.00       0.00       0.00       0.00   \n28       0.00       0.00       0.11       0.01       0.00       0.06   \n29       0.00       0.00       0.00       0.02      -0.01       0.01   \n30       0.00       0.01       0.02       0.11       0.00       0.00   \n31       0.00       0.00       0.00       0.00       0.00       0.00   \n32       0.00       0.00       0.00       0.00       0.00       0.00   \n33       0.00       0.00       0.01       0.00       0.00       0.01   \n34       0.00       0.00       0.00       0.00       0.00       0.00   \n35       0.00       0.01       0.00       0.00       0.00       0.01   \n36       0.00       0.00       0.00       0.01       0.00       0.00   \n37       0.00       0.00       0.00       0.00       0.00       0.01   \n38       0.00      -0.01       0.00       0.00       0.00       0.00   \n39       0.00       0.00      -0.21       0.00       0.00       0.00   \n40       0.00       0.00       0.00       0.00       0.00       0.00   \n41       0.00       0.00       0.00       0.00       0.00       0.00   \n42       0.00       0.00       0.00       0.00       0.00       0.00   \n\n    R235_diff  R239_diff  R240_diff  R238_diff  \n0        0.00       0.00       0.00       0.00  \n1        0.00       0.00       0.00       0.00  \n2        0.00       0.00       0.00       0.00  \n3        0.00       0.00       0.00       0.00  \n4        0.00       0.00       0.00       0.00  \n5        0.00       0.00       0.00      -0.04  \n6        0.00       0.01       0.00       0.00  \n7        0.00       0.00       0.00       0.00  \n8        0.00       0.00       0.00       0.00  \n9        0.00       0.00       0.00       0.00  \n10       0.00       0.00       0.00       0.00  \n11       0.00       0.01      -0.02       0.00  \n12       0.00       0.00       0.00      -0.03  \n13       0.00       0.00       0.00       0.00  \n14       0.00       0.00       0.00       0.00  \n15       0.00       0.00       0.00       0.00  \n16       0.00      -0.04       0.00      -0.01  \n17       0.00       0.00       0.00       0.00  \n18       0.00       0.00      -0.01       0.00  \n19       0.00       0.00       0.00       0.00  \n20       0.00       0.00      -0.01       0.00  \n21       0.00       0.00       0.00       0.00  \n22       0.00       0.00       0.00       0.00  \n23       0.00       0.00       0.00       0.00  \n24       0.00       0.00       0.00       0.00  \n25      -0.01      -0.04       0.00       0.00  \n26       0.00       0.00       0.00       0.00  \n27       0.00       0.00       0.00       0.00  \n28       0.00       0.00       0.00       0.00  \n29       0.00       0.00       0.00      -0.06  \n30       0.02       0.00       0.00       0.04  \n31       0.00       0.00       0.00       0.00  \n32       0.00       0.00       0.00       0.00  \n33       0.00       0.00       0.00       0.00  \n34       0.00       0.00       0.00       0.00  \n35       0.01       0.00       0.00       0.00  \n36       0.00       0.00       0.00       0.00  \n37       0.00       0.00       0.00       0.00  \n38       0.00       0.00       0.00       0.00  \n39       0.00       0.00       0.00       0.00  \n40       0.00       0.00       0.00       0.00  \n41       0.00      -0.01       0.00       0.00  \n42       0.00       0.00       0.00       0.00  \n\n[43 rows x 46 columns]",
      "text/html": "<div>\n<style scoped>\n    .dataframe tbody tr th:only-of-type {\n        vertical-align: middle;\n    }\n\n    .dataframe tbody tr th {\n        vertical-align: top;\n    }\n\n    .dataframe thead th {\n        text-align: right;\n    }\n</style>\n<table border=\"1\" class=\"dataframe\">\n  <thead>\n    <tr style=\"text-align: right;\">\n      <th></th>\n      <th>cell_id</th>\n      <th>bc1_hyb2_A488_R224</th>\n      <th>bc1_hyb2_A550_R225</th>\n      <th>bc1_hyb2_A647_R223</th>\n      <th>bc1_hyb3_A488_R227</th>\n      <th>bc1_hyb3_A550_R228</th>\n      <th>bc1_hyb3_A647_R226</th>\n      <th>bc1_hyb4_A488_R230</th>\n      <th>bc1_hyb4_A550_R231</th>\n      <th>bc1_hyb4_A647_R229</th>\n      <th>...</th>\n      <th>R226_diff</th>\n      <th>R230_diff</th>\n      <th>R231_diff</th>\n      <th>R229_diff</th>\n      <th>R236_diff</th>\n      <th>R237_diff</th>\n      <th>R235_diff</th>\n      <th>R239_diff</th>\n      <th>R240_diff</th>\n      <th>R238_diff</th>\n    </tr>\n  </thead>\n  <tbody>\n    <tr>\n      <th>0</th>\n      <td>937</td>\n      <td>0</td>\n      <td>0</td>\n      <td>0</td>\n      <td>1</td>\n      <td>0</td>\n      <td>0</td>\n      <td>0</td>\n      <td>0</td>\n      <td>1</td>\n      <td>...</td>\n      <td>0.00</td>\n      <td>0.00</td>\n      <td>0.00</td>\n      <td>0.00</td>\n      <td>0.00</td>\n      <td>0.00</td>\n      <td>0.00</td>\n      <td>0.00</td>\n      <td>0.00</td>\n      <td>0.00</td>\n    </tr>\n    <tr>\n      <th>1</th>\n      <td>548</td>\n      <td>0</td>\n      <td>0</td>\n      <td>0</td>\n      <td>0</td>\n      <td>0</td>\n      <td>1</td>\n      <td>1</td>\n      <td>0</td>\n      <td>0</td>\n      <td>...</td>\n      <td>0.00</td>\n      <td>-0.04</td>\n      <td>0.00</td>\n      <td>0.00</td>\n      <td>0.00</td>\n      <td>0.00</td>\n      <td>0.00</td>\n      <td>0.00</td>\n      <td>0.00</td>\n      <td>0.00</td>\n    </tr>\n    <tr>\n      <th>2</th>\n      <td>801</td>\n      <td>0</td>\n      <td>0</td>\n      <td>0</td>\n      <td>0</td>\n      <td>0</td>\n      <td>0</td>\n      <td>0</td>\n      <td>0</td>\n      <td>0</td>\n      <td>...</td>\n      <td>0.00</td>\n      <td>0.00</td>\n      <td>0.00</td>\n      <td>0.00</td>\n      <td>0.00</td>\n      <td>0.00</td>\n      <td>0.00</td>\n      <td>0.00</td>\n      <td>0.00</td>\n      <td>0.00</td>\n    </tr>\n    <tr>\n      <th>3</th>\n      <td>2877</td>\n      <td>1</td>\n      <td>0</td>\n      <td>1</td>\n      <td>0</td>\n      <td>0</td>\n      <td>0</td>\n      <td>0</td>\n      <td>0</td>\n      <td>0</td>\n      <td>...</td>\n      <td>0.00</td>\n      <td>0.00</td>\n      <td>0.00</td>\n      <td>0.00</td>\n      <td>0.00</td>\n      <td>0.00</td>\n      <td>0.00</td>\n      <td>0.00</td>\n      <td>0.00</td>\n      <td>0.00</td>\n    </tr>\n    <tr>\n      <th>4</th>\n      <td>981</td>\n      <td>1</td>\n      <td>0</td>\n      <td>1</td>\n      <td>0</td>\n      <td>0</td>\n      <td>0</td>\n      <td>0</td>\n      <td>0</td>\n      <td>0</td>\n      <td>...</td>\n      <td>0.00</td>\n      <td>0.00</td>\n      <td>0.00</td>\n      <td>0.00</td>\n      <td>0.00</td>\n      <td>0.00</td>\n      <td>0.00</td>\n      <td>0.00</td>\n      <td>0.00</td>\n      <td>0.00</td>\n    </tr>\n    <tr>\n      <th>5</th>\n      <td>1638</td>\n      <td>0</td>\n      <td>0</td>\n      <td>0</td>\n      <td>0</td>\n      <td>0</td>\n      <td>0</td>\n      <td>0</td>\n      <td>0</td>\n      <td>0</td>\n      <td>...</td>\n      <td>0.00</td>\n      <td>0.00</td>\n      <td>0.00</td>\n      <td>0.03</td>\n      <td>-0.01</td>\n      <td>0.00</td>\n      <td>0.00</td>\n      <td>0.00</td>\n      <td>0.00</td>\n      <td>-0.04</td>\n    </tr>\n    <tr>\n      <th>6</th>\n      <td>2535</td>\n      <td>0</td>\n      <td>0</td>\n      <td>0</td>\n      <td>0</td>\n      <td>1</td>\n      <td>1</td>\n      <td>0</td>\n      <td>0</td>\n      <td>0</td>\n      <td>...</td>\n      <td>0.00</td>\n      <td>0.00</td>\n      <td>0.00</td>\n      <td>0.00</td>\n      <td>0.00</td>\n      <td>0.00</td>\n      <td>0.00</td>\n      <td>0.01</td>\n      <td>0.00</td>\n      <td>0.00</td>\n    </tr>\n    <tr>\n      <th>7</th>\n      <td>1397</td>\n      <td>0</td>\n      <td>0</td>\n      <td>0</td>\n      <td>1</td>\n      <td>0</td>\n      <td>1</td>\n      <td>0</td>\n      <td>0</td>\n      <td>0</td>\n      <td>...</td>\n      <td>0.00</td>\n      <td>0.00</td>\n      <td>0.00</td>\n      <td>0.00</td>\n      <td>0.00</td>\n      <td>0.00</td>\n      <td>0.00</td>\n      <td>0.00</td>\n      <td>0.00</td>\n      <td>0.00</td>\n    </tr>\n    <tr>\n      <th>8</th>\n      <td>208</td>\n      <td>0</td>\n      <td>0</td>\n      <td>0</td>\n      <td>0</td>\n      <td>0</td>\n      <td>1</td>\n      <td>1</td>\n      <td>0</td>\n      <td>0</td>\n      <td>...</td>\n      <td>0.00</td>\n      <td>-0.01</td>\n      <td>0.02</td>\n      <td>0.00</td>\n      <td>0.00</td>\n      <td>0.00</td>\n      <td>0.00</td>\n      <td>0.00</td>\n      <td>0.00</td>\n      <td>0.00</td>\n    </tr>\n    <tr>\n      <th>9</th>\n      <td>1732</td>\n      <td>0</td>\n      <td>1</td>\n      <td>1</td>\n      <td>0</td>\n      <td>0</td>\n      <td>0</td>\n      <td>0</td>\n      <td>0</td>\n      <td>0</td>\n      <td>...</td>\n      <td>0.00</td>\n      <td>0.00</td>\n      <td>0.00</td>\n      <td>0.00</td>\n      <td>0.00</td>\n      <td>0.00</td>\n      <td>0.00</td>\n      <td>0.00</td>\n      <td>0.00</td>\n      <td>0.00</td>\n    </tr>\n    <tr>\n      <th>10</th>\n      <td>3088</td>\n      <td>0</td>\n      <td>1</td>\n      <td>1</td>\n      <td>0</td>\n      <td>0</td>\n      <td>0</td>\n      <td>0</td>\n      <td>0</td>\n      <td>0</td>\n      <td>...</td>\n      <td>0.00</td>\n      <td>0.00</td>\n      <td>0.00</td>\n      <td>0.00</td>\n      <td>0.00</td>\n      <td>0.00</td>\n      <td>0.00</td>\n      <td>0.00</td>\n      <td>0.00</td>\n      <td>0.00</td>\n    </tr>\n    <tr>\n      <th>11</th>\n      <td>570</td>\n      <td>0</td>\n      <td>0</td>\n      <td>0</td>\n      <td>0</td>\n      <td>0</td>\n      <td>0</td>\n      <td>0</td>\n      <td>0</td>\n      <td>0</td>\n      <td>...</td>\n      <td>0.00</td>\n      <td>0.00</td>\n      <td>0.00</td>\n      <td>0.00</td>\n      <td>0.01</td>\n      <td>0.00</td>\n      <td>0.00</td>\n      <td>0.01</td>\n      <td>-0.02</td>\n      <td>0.00</td>\n    </tr>\n    <tr>\n      <th>12</th>\n      <td>212</td>\n      <td>0</td>\n      <td>0</td>\n      <td>0</td>\n      <td>0</td>\n      <td>0</td>\n      <td>0</td>\n      <td>0</td>\n      <td>0</td>\n      <td>0</td>\n      <td>...</td>\n      <td>0.00</td>\n      <td>0.00</td>\n      <td>0.06</td>\n      <td>0.00</td>\n      <td>0.00</td>\n      <td>-0.18</td>\n      <td>0.00</td>\n      <td>0.00</td>\n      <td>0.00</td>\n      <td>-0.03</td>\n    </tr>\n    <tr>\n      <th>13</th>\n      <td>201</td>\n      <td>0</td>\n      <td>0</td>\n      <td>0</td>\n      <td>0</td>\n      <td>0</td>\n      <td>0</td>\n      <td>0</td>\n      <td>0</td>\n      <td>0</td>\n      <td>...</td>\n      <td>0.00</td>\n      <td>0.00</td>\n      <td>0.00</td>\n      <td>0.00</td>\n      <td>0.00</td>\n      <td>0.00</td>\n      <td>0.00</td>\n      <td>0.00</td>\n      <td>0.00</td>\n      <td>0.00</td>\n    </tr>\n    <tr>\n      <th>14</th>\n      <td>3279</td>\n      <td>0</td>\n      <td>1</td>\n      <td>1</td>\n      <td>0</td>\n      <td>0</td>\n      <td>0</td>\n      <td>0</td>\n      <td>0</td>\n      <td>0</td>\n      <td>...</td>\n      <td>0.00</td>\n      <td>0.01</td>\n      <td>0.00</td>\n      <td>0.00</td>\n      <td>0.00</td>\n      <td>0.00</td>\n      <td>0.00</td>\n      <td>0.00</td>\n      <td>0.00</td>\n      <td>0.00</td>\n    </tr>\n    <tr>\n      <th>15</th>\n      <td>1151</td>\n      <td>0</td>\n      <td>1</td>\n      <td>1</td>\n      <td>0</td>\n      <td>0</td>\n      <td>0</td>\n      <td>0</td>\n      <td>0</td>\n      <td>0</td>\n      <td>...</td>\n      <td>0.00</td>\n      <td>0.00</td>\n      <td>0.02</td>\n      <td>0.00</td>\n      <td>0.00</td>\n      <td>0.00</td>\n      <td>0.00</td>\n      <td>0.00</td>\n      <td>0.00</td>\n      <td>0.00</td>\n    </tr>\n    <tr>\n      <th>16</th>\n      <td>3067</td>\n      <td>0</td>\n      <td>0</td>\n      <td>0</td>\n      <td>0</td>\n      <td>0</td>\n      <td>0</td>\n      <td>0</td>\n      <td>0</td>\n      <td>0</td>\n      <td>...</td>\n      <td>0.00</td>\n      <td>0.00</td>\n      <td>0.00</td>\n      <td>0.01</td>\n      <td>0.00</td>\n      <td>0.00</td>\n      <td>0.00</td>\n      <td>-0.04</td>\n      <td>0.00</td>\n      <td>-0.01</td>\n    </tr>\n    <tr>\n      <th>17</th>\n      <td>2794</td>\n      <td>0</td>\n      <td>0</td>\n      <td>0</td>\n      <td>1</td>\n      <td>0</td>\n      <td>1</td>\n      <td>0</td>\n      <td>0</td>\n      <td>0</td>\n      <td>...</td>\n      <td>0.00</td>\n      <td>0.00</td>\n      <td>0.00</td>\n      <td>0.00</td>\n      <td>0.00</td>\n      <td>0.00</td>\n      <td>0.00</td>\n      <td>0.00</td>\n      <td>0.00</td>\n      <td>0.00</td>\n    </tr>\n    <tr>\n      <th>18</th>\n      <td>1093</td>\n      <td>0</td>\n      <td>0</td>\n      <td>0</td>\n      <td>0</td>\n      <td>0</td>\n      <td>0</td>\n      <td>0</td>\n      <td>0</td>\n      <td>0</td>\n      <td>...</td>\n      <td>0.00</td>\n      <td>0.00</td>\n      <td>0.00</td>\n      <td>0.00</td>\n      <td>0.00</td>\n      <td>0.00</td>\n      <td>0.00</td>\n      <td>0.00</td>\n      <td>-0.01</td>\n      <td>0.00</td>\n    </tr>\n    <tr>\n      <th>19</th>\n      <td>3262</td>\n      <td>0</td>\n      <td>0</td>\n      <td>0</td>\n      <td>1</td>\n      <td>0</td>\n      <td>1</td>\n      <td>0</td>\n      <td>0</td>\n      <td>0</td>\n      <td>...</td>\n      <td>0.00</td>\n      <td>0.00</td>\n      <td>0.00</td>\n      <td>0.00</td>\n      <td>0.00</td>\n      <td>0.00</td>\n      <td>0.00</td>\n      <td>0.00</td>\n      <td>0.00</td>\n      <td>0.00</td>\n    </tr>\n    <tr>\n      <th>20</th>\n      <td>3419</td>\n      <td>0</td>\n      <td>0</td>\n      <td>0</td>\n      <td>0</td>\n      <td>0</td>\n      <td>0</td>\n      <td>0</td>\n      <td>0</td>\n      <td>0</td>\n      <td>...</td>\n      <td>0.00</td>\n      <td>0.00</td>\n      <td>0.00</td>\n      <td>0.00</td>\n      <td>0.00</td>\n      <td>0.00</td>\n      <td>0.00</td>\n      <td>0.00</td>\n      <td>-0.01</td>\n      <td>0.00</td>\n    </tr>\n    <tr>\n      <th>21</th>\n      <td>2857</td>\n      <td>0</td>\n      <td>0</td>\n      <td>0</td>\n      <td>0</td>\n      <td>0</td>\n      <td>0</td>\n      <td>0</td>\n      <td>0</td>\n      <td>0</td>\n      <td>...</td>\n      <td>0.00</td>\n      <td>0.00</td>\n      <td>0.00</td>\n      <td>0.00</td>\n      <td>0.00</td>\n      <td>0.01</td>\n      <td>0.00</td>\n      <td>0.00</td>\n      <td>0.00</td>\n      <td>0.00</td>\n    </tr>\n    <tr>\n      <th>22</th>\n      <td>445</td>\n      <td>0</td>\n      <td>0</td>\n      <td>0</td>\n      <td>0</td>\n      <td>1</td>\n      <td>1</td>\n      <td>0</td>\n      <td>0</td>\n      <td>0</td>\n      <td>...</td>\n      <td>0.00</td>\n      <td>0.00</td>\n      <td>0.00</td>\n      <td>0.00</td>\n      <td>0.00</td>\n      <td>0.00</td>\n      <td>0.00</td>\n      <td>0.00</td>\n      <td>0.00</td>\n      <td>0.00</td>\n    </tr>\n    <tr>\n      <th>23</th>\n      <td>26</td>\n      <td>0</td>\n      <td>0</td>\n      <td>0</td>\n      <td>0</td>\n      <td>0</td>\n      <td>1</td>\n      <td>0</td>\n      <td>1</td>\n      <td>0</td>\n      <td>...</td>\n      <td>-0.06</td>\n      <td>0.00</td>\n      <td>-0.39</td>\n      <td>0.01</td>\n      <td>0.00</td>\n      <td>0.00</td>\n      <td>0.00</td>\n      <td>0.00</td>\n      <td>0.00</td>\n      <td>0.00</td>\n    </tr>\n    <tr>\n      <th>24</th>\n      <td>1067</td>\n      <td>0</td>\n      <td>0</td>\n      <td>0</td>\n      <td>0</td>\n      <td>0</td>\n      <td>0</td>\n      <td>0</td>\n      <td>0</td>\n      <td>0</td>\n      <td>...</td>\n      <td>0.00</td>\n      <td>0.00</td>\n      <td>0.00</td>\n      <td>0.00</td>\n      <td>0.00</td>\n      <td>0.00</td>\n      <td>0.00</td>\n      <td>0.00</td>\n      <td>0.00</td>\n      <td>0.00</td>\n    </tr>\n    <tr>\n      <th>25</th>\n      <td>2992</td>\n      <td>0</td>\n      <td>0</td>\n      <td>0</td>\n      <td>0</td>\n      <td>0</td>\n      <td>0</td>\n      <td>0</td>\n      <td>0</td>\n      <td>0</td>\n      <td>...</td>\n      <td>0.00</td>\n      <td>0.00</td>\n      <td>0.00</td>\n      <td>0.00</td>\n      <td>0.00</td>\n      <td>0.00</td>\n      <td>-0.01</td>\n      <td>-0.04</td>\n      <td>0.00</td>\n      <td>0.00</td>\n    </tr>\n    <tr>\n      <th>26</th>\n      <td>2954</td>\n      <td>0</td>\n      <td>0</td>\n      <td>0</td>\n      <td>0</td>\n      <td>0</td>\n      <td>1</td>\n      <td>1</td>\n      <td>0</td>\n      <td>0</td>\n      <td>...</td>\n      <td>-0.03</td>\n      <td>-0.10</td>\n      <td>0.01</td>\n      <td>0.00</td>\n      <td>0.00</td>\n      <td>0.00</td>\n      <td>0.00</td>\n      <td>0.00</td>\n      <td>0.00</td>\n      <td>0.00</td>\n    </tr>\n    <tr>\n      <th>27</th>\n      <td>3751</td>\n      <td>0</td>\n      <td>0</td>\n      <td>0</td>\n      <td>1</td>\n      <td>0</td>\n      <td>0</td>\n      <td>0</td>\n      <td>0</td>\n      <td>1</td>\n      <td>...</td>\n      <td>0.00</td>\n      <td>0.00</td>\n      <td>0.00</td>\n      <td>0.00</td>\n      <td>0.00</td>\n      <td>0.00</td>\n      <td>0.00</td>\n      <td>0.00</td>\n      <td>0.00</td>\n      <td>0.00</td>\n    </tr>\n    <tr>\n      <th>28</th>\n      <td>1436</td>\n      <td>0</td>\n      <td>0</td>\n      <td>0</td>\n      <td>0</td>\n      <td>0</td>\n      <td>0</td>\n      <td>0</td>\n      <td>0</td>\n      <td>0</td>\n      <td>...</td>\n      <td>0.00</td>\n      <td>0.00</td>\n      <td>0.11</td>\n      <td>0.01</td>\n      <td>0.00</td>\n      <td>0.06</td>\n      <td>0.00</td>\n      <td>0.00</td>\n      <td>0.00</td>\n      <td>0.00</td>\n    </tr>\n    <tr>\n      <th>29</th>\n      <td>2256</td>\n      <td>0</td>\n      <td>0</td>\n      <td>0</td>\n      <td>0</td>\n      <td>0</td>\n      <td>0</td>\n      <td>0</td>\n      <td>0</td>\n      <td>0</td>\n      <td>...</td>\n      <td>0.00</td>\n      <td>0.00</td>\n      <td>0.00</td>\n      <td>0.02</td>\n      <td>-0.01</td>\n      <td>0.01</td>\n      <td>0.00</td>\n      <td>0.00</td>\n      <td>0.00</td>\n      <td>-0.06</td>\n    </tr>\n    <tr>\n      <th>30</th>\n      <td>64</td>\n      <td>0</td>\n      <td>0</td>\n      <td>0</td>\n      <td>0</td>\n      <td>1</td>\n      <td>0</td>\n      <td>0</td>\n      <td>0</td>\n      <td>0</td>\n      <td>...</td>\n      <td>0.00</td>\n      <td>0.01</td>\n      <td>0.02</td>\n      <td>0.11</td>\n      <td>0.00</td>\n      <td>0.00</td>\n      <td>0.02</td>\n      <td>0.00</td>\n      <td>0.00</td>\n      <td>0.04</td>\n    </tr>\n    <tr>\n      <th>31</th>\n      <td>211</td>\n      <td>0</td>\n      <td>0</td>\n      <td>0</td>\n      <td>0</td>\n      <td>0</td>\n      <td>0</td>\n      <td>0</td>\n      <td>0</td>\n      <td>0</td>\n      <td>...</td>\n      <td>0.00</td>\n      <td>0.00</td>\n      <td>0.00</td>\n      <td>0.00</td>\n      <td>0.00</td>\n      <td>0.00</td>\n      <td>0.00</td>\n      <td>0.00</td>\n      <td>0.00</td>\n      <td>0.00</td>\n    </tr>\n    <tr>\n      <th>32</th>\n      <td>1228</td>\n      <td>0</td>\n      <td>0</td>\n      <td>0</td>\n      <td>0</td>\n      <td>0</td>\n      <td>0</td>\n      <td>0</td>\n      <td>0</td>\n      <td>0</td>\n      <td>...</td>\n      <td>0.00</td>\n      <td>0.00</td>\n      <td>0.00</td>\n      <td>0.00</td>\n      <td>0.00</td>\n      <td>0.00</td>\n      <td>0.00</td>\n      <td>0.00</td>\n      <td>0.00</td>\n      <td>0.00</td>\n    </tr>\n    <tr>\n      <th>33</th>\n      <td>2262</td>\n      <td>1</td>\n      <td>0</td>\n      <td>1</td>\n      <td>0</td>\n      <td>0</td>\n      <td>0</td>\n      <td>0</td>\n      <td>0</td>\n      <td>0</td>\n      <td>...</td>\n      <td>0.00</td>\n      <td>0.00</td>\n      <td>0.01</td>\n      <td>0.00</td>\n      <td>0.00</td>\n      <td>0.01</td>\n      <td>0.00</td>\n      <td>0.00</td>\n      <td>0.00</td>\n      <td>0.00</td>\n    </tr>\n    <tr>\n      <th>34</th>\n      <td>3223</td>\n      <td>1</td>\n      <td>0</td>\n      <td>1</td>\n      <td>0</td>\n      <td>0</td>\n      <td>0</td>\n      <td>0</td>\n      <td>0</td>\n      <td>0</td>\n      <td>...</td>\n      <td>0.00</td>\n      <td>0.00</td>\n      <td>0.00</td>\n      <td>0.00</td>\n      <td>0.00</td>\n      <td>0.00</td>\n      <td>0.00</td>\n      <td>0.00</td>\n      <td>0.00</td>\n      <td>0.00</td>\n    </tr>\n    <tr>\n      <th>35</th>\n      <td>2824</td>\n      <td>0</td>\n      <td>0</td>\n      <td>0</td>\n      <td>0</td>\n      <td>0</td>\n      <td>0</td>\n      <td>0</td>\n      <td>0</td>\n      <td>0</td>\n      <td>...</td>\n      <td>0.00</td>\n      <td>0.01</td>\n      <td>0.00</td>\n      <td>0.00</td>\n      <td>0.00</td>\n      <td>0.01</td>\n      <td>0.01</td>\n      <td>0.00</td>\n      <td>0.00</td>\n      <td>0.00</td>\n    </tr>\n    <tr>\n      <th>36</th>\n      <td>3594</td>\n      <td>0</td>\n      <td>1</td>\n      <td>1</td>\n      <td>0</td>\n      <td>0</td>\n      <td>0</td>\n      <td>0</td>\n      <td>0</td>\n      <td>0</td>\n      <td>...</td>\n      <td>0.00</td>\n      <td>0.00</td>\n      <td>0.00</td>\n      <td>0.01</td>\n      <td>0.00</td>\n      <td>0.00</td>\n      <td>0.00</td>\n      <td>0.00</td>\n      <td>0.00</td>\n      <td>0.00</td>\n    </tr>\n    <tr>\n      <th>37</th>\n      <td>674</td>\n      <td>0</td>\n      <td>0</td>\n      <td>0</td>\n      <td>1</td>\n      <td>0</td>\n      <td>1</td>\n      <td>0</td>\n      <td>0</td>\n      <td>0</td>\n      <td>...</td>\n      <td>0.00</td>\n      <td>0.00</td>\n      <td>0.00</td>\n      <td>0.00</td>\n      <td>0.00</td>\n      <td>0.01</td>\n      <td>0.00</td>\n      <td>0.00</td>\n      <td>0.00</td>\n      <td>0.00</td>\n    </tr>\n    <tr>\n      <th>38</th>\n      <td>3232</td>\n      <td>0</td>\n      <td>0</td>\n      <td>0</td>\n      <td>0</td>\n      <td>0</td>\n      <td>1</td>\n      <td>1</td>\n      <td>0</td>\n      <td>0</td>\n      <td>...</td>\n      <td>0.00</td>\n      <td>-0.01</td>\n      <td>0.00</td>\n      <td>0.00</td>\n      <td>0.00</td>\n      <td>0.00</td>\n      <td>0.00</td>\n      <td>0.00</td>\n      <td>0.00</td>\n      <td>0.00</td>\n    </tr>\n    <tr>\n      <th>39</th>\n      <td>1462</td>\n      <td>0</td>\n      <td>0</td>\n      <td>0</td>\n      <td>0</td>\n      <td>0</td>\n      <td>1</td>\n      <td>0</td>\n      <td>1</td>\n      <td>0</td>\n      <td>...</td>\n      <td>0.00</td>\n      <td>0.00</td>\n      <td>-0.21</td>\n      <td>0.00</td>\n      <td>0.00</td>\n      <td>0.00</td>\n      <td>0.00</td>\n      <td>0.00</td>\n      <td>0.00</td>\n      <td>0.00</td>\n    </tr>\n    <tr>\n      <th>40</th>\n      <td>221</td>\n      <td>0</td>\n      <td>0</td>\n      <td>0</td>\n      <td>0</td>\n      <td>1</td>\n      <td>0</td>\n      <td>0</td>\n      <td>0</td>\n      <td>1</td>\n      <td>...</td>\n      <td>0.00</td>\n      <td>0.00</td>\n      <td>0.00</td>\n      <td>0.00</td>\n      <td>0.00</td>\n      <td>0.00</td>\n      <td>0.00</td>\n      <td>0.00</td>\n      <td>0.00</td>\n      <td>0.00</td>\n    </tr>\n    <tr>\n      <th>41</th>\n      <td>880</td>\n      <td>0</td>\n      <td>0</td>\n      <td>0</td>\n      <td>0</td>\n      <td>0</td>\n      <td>0</td>\n      <td>0</td>\n      <td>0</td>\n      <td>0</td>\n      <td>...</td>\n      <td>0.00</td>\n      <td>0.00</td>\n      <td>0.00</td>\n      <td>0.00</td>\n      <td>0.00</td>\n      <td>0.00</td>\n      <td>0.00</td>\n      <td>-0.01</td>\n      <td>0.00</td>\n      <td>0.00</td>\n    </tr>\n    <tr>\n      <th>42</th>\n      <td>3647</td>\n      <td>0</td>\n      <td>0</td>\n      <td>0</td>\n      <td>0</td>\n      <td>1</td>\n      <td>1</td>\n      <td>0</td>\n      <td>0</td>\n      <td>0</td>\n      <td>...</td>\n      <td>0.00</td>\n      <td>0.00</td>\n      <td>0.00</td>\n      <td>0.00</td>\n      <td>0.00</td>\n      <td>0.00</td>\n      <td>0.00</td>\n      <td>0.00</td>\n      <td>0.00</td>\n      <td>0.00</td>\n    </tr>\n  </tbody>\n</table>\n<p>43 rows × 46 columns</p>\n</div>"
     },
     "execution_count": 9,
     "metadata": {},
     "output_type": "execute_result"
    }
   ],
   "source": [
    "# evaluate\n",
    "eval_df = pd.concat(eval_dfs, axis=1)\n",
    "eval_df = eval_df.loc[:,~eval_df.columns.duplicated()].copy()\n",
    "eval_df = eval_df.reindex(sorted(eval_df.columns), axis=1)\n",
    "pred_cols = [col for col in eval_df.columns if 'prob' in col]\n",
    "true_cols = [col for col in eval_df.columns if  'bc' in col and 'prob' not in col]\n",
    "relevant_cols = ['cell_id'] + true_cols + pred_cols\n",
    "\n",
    "eval_df = eval_df[relevant_cols]\n",
    "\n",
    "# Calculate the difference and add new columns\n",
    "delta_cols = []\n",
    "for col1, col2 in zip(pred_cols, true_cols):\n",
    "    new_col_name = f\"{col1.split('_')[-1]}_diff\"  # Name for the new column\n",
    "    delta_cols.append(new_col_name)\n",
    "    eval_df[new_col_name] = eval_df[col1] - eval_df[col2]\n",
    "\n",
    "eval_df"
   ],
   "metadata": {
    "collapsed": false,
    "pycharm": {
     "name": "#%%\n"
    }
   }
  },
  {
   "cell_type": "markdown",
   "source": [
    "# Check problematic cells"
   ],
   "metadata": {
    "collapsed": false,
    "pycharm": {
     "name": "#%% md\n"
    }
   }
  },
  {
   "cell_type": "code",
   "execution_count": 10,
   "outputs": [],
   "source": [
    "data_for_heatmap, problematic_idx, problematic_cell_id = utils_train.plot_eval(eval_df, true_cols, pred_cols, delta_cols)"
   ],
   "metadata": {
    "collapsed": false,
    "pycharm": {
     "name": "#%%\n"
    }
   }
  },
  {
   "cell_type": "code",
   "execution_count": 22,
   "outputs": [],
   "source": [
    "problematic = data_for_heatmap.iloc[problematic_idx]\n",
    "sns.heatmap(problematic, annot=True, cmap='viridis', cbar=False, linewidths=2, linecolor='black')\n",
    "plt.savefig('genes_problematic.png')\n",
    "plt.show()"
   ],
   "metadata": {
    "collapsed": false,
    "pycharm": {
     "name": "#%%\n"
    }
   }
  },
  {
   "cell_type": "code",
   "execution_count": 23,
   "outputs": [
    {
     "name": "stdout",
     "output_type": "stream",
     "text": [
      "6\n",
      "6\n",
      "6\n",
      "6\n"
     ]
    }
   ],
   "source": [
    "# Show problematic cells\n",
    "for i in problematic_cell_id:\n",
    "    utils_train.plot_by_idx(i, temp, to_show, titels)"
   ],
   "metadata": {
    "collapsed": false,
    "pycharm": {
     "name": "#%%\n"
    }
   }
  },
  {
   "cell_type": "markdown",
   "source": [
    "# Predict for all the cells"
   ],
   "metadata": {
    "collapsed": false,
    "pycharm": {
     "name": "#%% md\n"
    }
   }
  },
  {
   "cell_type": "code",
   "execution_count": 30,
   "outputs": [],
   "source": [
    "for fov_to_predict in range(40):\n",
    "    predict_dfs = []\n",
    "    channel_list = ['A647', 'A488', 'A550']\n",
    "    # for fov_to_predict in range(2):\n",
    "    for model, channel in zip(model_zoo, channel_list):\n",
    "        pred = utils_train.predict(model = model,\n",
    "                                   automation_summary_path = automation_summary_path,\n",
    "                                   cutoff=0.6,\n",
    "                                   channel = channel,\n",
    "                                   fov_list=[fov_to_predict],\n",
    "                                   hyb_list=hyb_list,\n",
    "                                   directory_path=whole_cell_data_path,\n",
    "                                   demult_path=rf'X:\\danielda\\analysis\\zp_auto_080524_late_exp_100x\\demultiplexing\\genes_fov_{fov_to_predict}_demult.txt')\n",
    "\n",
    "        predict_dfs.append(pred)\n",
    "\n",
    "    predict_df = pd.concat(predict_dfs, axis=1)\n",
    "    predict_df = predict_df.loc[:,~predict_df.columns.duplicated()].copy()\n",
    "    predict_df = predict_df.reindex(sorted(predict_df.columns), axis=1)\n",
    "    relevant_cols = ['cell_id'] + pred_cols\n",
    "\n",
    "    predict_df = predict_df[predict_df['cell_id'].isin(np.unique(temp.masks))]\n",
    "\n",
    "    predict_df[relevant_cols]\n",
    "\n",
    "    cutoff=0.5\n",
    "\n",
    "    relevant_cols = ['cell_id'] + pred_cols\n",
    "    df = predict_df[relevant_cols]\n",
    "    rounded_df = df.copy()\n",
    "\n",
    "    rounded_df[pred_cols] = (predict_df[pred_cols] > cutoff).astype(int)\n",
    "\n",
    "    df.columns = ['cell_id'] + [col.split('_')[-1] for col in pred_cols]\n",
    "    df['total'] = rounded_df.loc[:, df.columns != 'cell_id'].sum(axis=1)\n",
    "    df['predicted_sample'] = None\n",
    "\n",
    "    for sample, probs in probs_dict.items():\n",
    "        #Round the specific columns\n",
    "        rounded_df = df[probs].round()\n",
    "\n",
    "        #Check if both columns are equal to 1\n",
    "        condition = (rounded_df[probs[0]] == 1) & (rounded_df[probs[1]] == 1)\n",
    "        df.loc[condition, 'predicted_sample'] = sample\n",
    "\n",
    "    df.loc[df.total == 0, 'predicted_sample'] = 'no_signal'\n",
    "    df.loc[df.total == 1, 'predicted_sample'] = 'partial_signal'\n",
    "    df.loc[df.total > 2 , 'predicted_sample'] = 'too_many_signals'\n",
    "    df.predicted_sample.fillna(value='false_positive', inplace=True)\n",
    "\n",
    "    df.to_csv(rf'X:\\sandbox\\zp_auto_080524_late_exp_100x\\demultiplexing_model\\demultiplexing_results\\fov_{fov_to_predict}.csv')"
   ],
   "metadata": {
    "collapsed": false,
    "pycharm": {
     "name": "#%%\n"
    }
   }
  },
  {
   "cell_type": "code",
   "execution_count": 38,
   "outputs": [
    {
     "name": "stdout",
     "output_type": "stream",
     "text": [
      "Updated file saved to X:\\sandbox\\zp_auto_080524_late_exp_100x\\demultiplexing_model\\results\\genes_fov_0_demult.txt\n",
      "Updated file saved to X:\\sandbox\\zp_auto_080524_late_exp_100x\\demultiplexing_model\\results\\genes_fov_1_demult.txt\n",
      "Updated file saved to X:\\sandbox\\zp_auto_080524_late_exp_100x\\demultiplexing_model\\results\\genes_fov_2_demult.txt\n",
      "Updated file saved to X:\\sandbox\\zp_auto_080524_late_exp_100x\\demultiplexing_model\\results\\genes_fov_3_demult.txt\n",
      "Updated file saved to X:\\sandbox\\zp_auto_080524_late_exp_100x\\demultiplexing_model\\results\\genes_fov_4_demult.txt\n",
      "Updated file saved to X:\\sandbox\\zp_auto_080524_late_exp_100x\\demultiplexing_model\\results\\genes_fov_5_demult.txt\n",
      "Updated file saved to X:\\sandbox\\zp_auto_080524_late_exp_100x\\demultiplexing_model\\results\\genes_fov_6_demult.txt\n",
      "Updated file saved to X:\\sandbox\\zp_auto_080524_late_exp_100x\\demultiplexing_model\\results\\genes_fov_7_demult.txt\n",
      "Updated file saved to X:\\sandbox\\zp_auto_080524_late_exp_100x\\demultiplexing_model\\results\\genes_fov_8_demult.txt\n",
      "Updated file saved to X:\\sandbox\\zp_auto_080524_late_exp_100x\\demultiplexing_model\\results\\genes_fov_9_demult.txt\n",
      "Updated file saved to X:\\sandbox\\zp_auto_080524_late_exp_100x\\demultiplexing_model\\results\\genes_fov_10_demult.txt\n",
      "Updated file saved to X:\\sandbox\\zp_auto_080524_late_exp_100x\\demultiplexing_model\\results\\genes_fov_11_demult.txt\n",
      "Updated file saved to X:\\sandbox\\zp_auto_080524_late_exp_100x\\demultiplexing_model\\results\\genes_fov_12_demult.txt\n",
      "Updated file saved to X:\\sandbox\\zp_auto_080524_late_exp_100x\\demultiplexing_model\\results\\genes_fov_13_demult.txt\n",
      "Updated file saved to X:\\sandbox\\zp_auto_080524_late_exp_100x\\demultiplexing_model\\results\\genes_fov_14_demult.txt\n",
      "Updated file saved to X:\\sandbox\\zp_auto_080524_late_exp_100x\\demultiplexing_model\\results\\genes_fov_15_demult.txt\n",
      "Updated file saved to X:\\sandbox\\zp_auto_080524_late_exp_100x\\demultiplexing_model\\results\\genes_fov_16_demult.txt\n",
      "Updated file saved to X:\\sandbox\\zp_auto_080524_late_exp_100x\\demultiplexing_model\\results\\genes_fov_17_demult.txt\n",
      "Updated file saved to X:\\sandbox\\zp_auto_080524_late_exp_100x\\demultiplexing_model\\results\\genes_fov_18_demult.txt\n",
      "Updated file saved to X:\\sandbox\\zp_auto_080524_late_exp_100x\\demultiplexing_model\\results\\genes_fov_19_demult.txt\n",
      "Updated file saved to X:\\sandbox\\zp_auto_080524_late_exp_100x\\demultiplexing_model\\results\\genes_fov_20_demult.txt\n",
      "Updated file saved to X:\\sandbox\\zp_auto_080524_late_exp_100x\\demultiplexing_model\\results\\genes_fov_21_demult.txt\n",
      "Updated file saved to X:\\sandbox\\zp_auto_080524_late_exp_100x\\demultiplexing_model\\results\\genes_fov_22_demult.txt\n",
      "Updated file saved to X:\\sandbox\\zp_auto_080524_late_exp_100x\\demultiplexing_model\\results\\genes_fov_23_demult.txt\n",
      "Updated file saved to X:\\sandbox\\zp_auto_080524_late_exp_100x\\demultiplexing_model\\results\\genes_fov_24_demult.txt\n",
      "Updated file saved to X:\\sandbox\\zp_auto_080524_late_exp_100x\\demultiplexing_model\\results\\genes_fov_25_demult.txt\n",
      "Updated file saved to X:\\sandbox\\zp_auto_080524_late_exp_100x\\demultiplexing_model\\results\\genes_fov_26_demult.txt\n",
      "Updated file saved to X:\\sandbox\\zp_auto_080524_late_exp_100x\\demultiplexing_model\\results\\genes_fov_27_demult.txt\n",
      "Updated file saved to X:\\sandbox\\zp_auto_080524_late_exp_100x\\demultiplexing_model\\results\\genes_fov_28_demult.txt\n",
      "Updated file saved to X:\\sandbox\\zp_auto_080524_late_exp_100x\\demultiplexing_model\\results\\genes_fov_29_demult.txt\n",
      "Updated file saved to X:\\sandbox\\zp_auto_080524_late_exp_100x\\demultiplexing_model\\results\\genes_fov_30_demult.txt\n",
      "Updated file saved to X:\\sandbox\\zp_auto_080524_late_exp_100x\\demultiplexing_model\\results\\genes_fov_31_demult.txt\n",
      "Updated file saved to X:\\sandbox\\zp_auto_080524_late_exp_100x\\demultiplexing_model\\results\\genes_fov_32_demult.txt\n",
      "Updated file saved to X:\\sandbox\\zp_auto_080524_late_exp_100x\\demultiplexing_model\\results\\genes_fov_33_demult.txt\n",
      "Updated file saved to X:\\sandbox\\zp_auto_080524_late_exp_100x\\demultiplexing_model\\results\\genes_fov_34_demult.txt\n",
      "Updated file saved to X:\\sandbox\\zp_auto_080524_late_exp_100x\\demultiplexing_model\\results\\genes_fov_35_demult.txt\n",
      "Updated file saved to X:\\sandbox\\zp_auto_080524_late_exp_100x\\demultiplexing_model\\results\\genes_fov_36_demult.txt\n",
      "Updated file saved to X:\\sandbox\\zp_auto_080524_late_exp_100x\\demultiplexing_model\\results\\genes_fov_37_demult.txt\n",
      "Updated file saved to X:\\sandbox\\zp_auto_080524_late_exp_100x\\demultiplexing_model\\results\\genes_fov_38_demult.txt\n",
      "Updated file saved to X:\\sandbox\\zp_auto_080524_late_exp_100x\\demultiplexing_model\\results\\genes_fov_39_demult.txt\n"
     ]
    }
   ],
   "source": [
    "for i in range (40):\n",
    "    # Load data from the files\n",
    "    genes_fov_path = rf'X:\\danielda\\analysis\\zp_auto_080524_late_exp_100x\\demultiplexing\\genes_fov_{i}_demult.txt'\n",
    "    fov_7_path = rf'X:\\sandbox\\zp_auto_080524_late_exp_100x\\demultiplexing_model\\demultiplexing_results\\fov_{i}.csv'\n",
    "\n",
    "    genes_df = pd.read_csv(genes_fov_path, sep='\\t')\n",
    "    fov_df = pd.read_csv(fov_7_path)\n",
    "\n",
    "    # Create a mapping from cell_id to predicted_sample\n",
    "    mapping = fov_df.set_index('cell_id')['predicted_sample'].to_dict()\n",
    "\n",
    "    # Replace sample_name in genes_df\n",
    "    genes_df['sample_name'] = genes_df['cell_id'].map(mapping)\n",
    "\n",
    "    # Save the updated dataframe back to a file\n",
    "    updated_genes_fov_path = fr'X:\\sandbox\\zp_auto_080524_late_exp_100x\\demultiplexing_model\\results\\genes_fov_{i}_demult.txt'\n",
    "    genes_df.to_csv(updated_genes_fov_path, sep='\\t', index=False)\n",
    "\n",
    "    print(f\"Updated file saved to {updated_genes_fov_path}\")\n"
   ],
   "metadata": {
    "collapsed": false,
    "pycharm": {
     "name": "#%%\n"
    }
   }
  },
  {
   "cell_type": "code",
   "execution_count": 36,
   "outputs": [
    {
     "data": {
      "text/plain": "      Unnamed: 0  cell_id  R224  R225  R223  R227  R228  R226  R230  R231  \\\n0              0        1   0.0   0.0   0.0  0.00  0.87  0.90  0.00   0.0   \n1              1        2   0.0   0.0   0.0  0.82  0.00  0.00  0.00   0.0   \n2              2        3   0.0   0.0   0.0  0.00  0.00  0.00  0.00   0.0   \n3              3        4   0.0   0.0   0.0  0.00  0.00  0.79  0.73   0.0   \n4              4        6   0.0   0.0   0.0  0.00  0.00  0.00  0.00   0.0   \n...          ...      ...   ...   ...   ...   ...   ...   ...   ...   ...   \n2876        3313     3511   0.0   0.0   0.0  0.74  0.00  0.90  0.00   0.0   \n2877        3314     3512   0.0   0.0   0.0  0.00  0.90  0.90  0.00   0.0   \n2878        3315     3513   0.0   0.0   0.0  0.86  0.00  0.90  0.00   0.0   \n2879        3316     3514   0.0   0.0   0.0  0.63  0.00  0.00  0.00   0.0   \n2880        3317     3517   0.0   0.0   0.0  0.00  0.00  0.00  0.00   0.0   \n\n      R229  R236  R237  R235  R239  R240  R238  total predicted_sample  \n0     0.00   0.0  0.00  0.00  0.00  0.00   0.0      2            lib_4  \n1     0.90   0.0  0.00  0.00  0.00  0.00   0.0      2            lib_7  \n2     0.00   0.0  0.88  0.00  0.00  0.00   0.9      2           lib_15  \n3     0.00   0.0  0.00  0.00  0.00  0.00   0.0      2            lib_5  \n4     0.00   0.0  0.00  0.86  0.00  0.87   0.0      2           lib_13  \n...    ...   ...   ...   ...   ...   ...   ...    ...              ...  \n2876  0.00   0.0  0.00  0.00  0.00  0.00   0.0      2            lib_3  \n2877  0.00   0.0  0.00  0.00  0.00  0.00   0.0      2            lib_4  \n2878  0.00   0.0  0.00  0.00  0.00  0.00   0.0      2            lib_3  \n2879  0.85   0.0  0.00  0.00  0.00  0.00   0.0      2            lib_7  \n2880  0.00   0.0  0.00  0.00  0.83  0.00   0.9      2           lib_16  \n\n[2881 rows x 19 columns]",
      "text/html": "<div>\n<style scoped>\n    .dataframe tbody tr th:only-of-type {\n        vertical-align: middle;\n    }\n\n    .dataframe tbody tr th {\n        vertical-align: top;\n    }\n\n    .dataframe thead th {\n        text-align: right;\n    }\n</style>\n<table border=\"1\" class=\"dataframe\">\n  <thead>\n    <tr style=\"text-align: right;\">\n      <th></th>\n      <th>Unnamed: 0</th>\n      <th>cell_id</th>\n      <th>R224</th>\n      <th>R225</th>\n      <th>R223</th>\n      <th>R227</th>\n      <th>R228</th>\n      <th>R226</th>\n      <th>R230</th>\n      <th>R231</th>\n      <th>R229</th>\n      <th>R236</th>\n      <th>R237</th>\n      <th>R235</th>\n      <th>R239</th>\n      <th>R240</th>\n      <th>R238</th>\n      <th>total</th>\n      <th>predicted_sample</th>\n    </tr>\n  </thead>\n  <tbody>\n    <tr>\n      <th>0</th>\n      <td>0</td>\n      <td>1</td>\n      <td>0.0</td>\n      <td>0.0</td>\n      <td>0.0</td>\n      <td>0.00</td>\n      <td>0.87</td>\n      <td>0.90</td>\n      <td>0.00</td>\n      <td>0.0</td>\n      <td>0.00</td>\n      <td>0.0</td>\n      <td>0.00</td>\n      <td>0.00</td>\n      <td>0.00</td>\n      <td>0.00</td>\n      <td>0.0</td>\n      <td>2</td>\n      <td>lib_4</td>\n    </tr>\n    <tr>\n      <th>1</th>\n      <td>1</td>\n      <td>2</td>\n      <td>0.0</td>\n      <td>0.0</td>\n      <td>0.0</td>\n      <td>0.82</td>\n      <td>0.00</td>\n      <td>0.00</td>\n      <td>0.00</td>\n      <td>0.0</td>\n      <td>0.90</td>\n      <td>0.0</td>\n      <td>0.00</td>\n      <td>0.00</td>\n      <td>0.00</td>\n      <td>0.00</td>\n      <td>0.0</td>\n      <td>2</td>\n      <td>lib_7</td>\n    </tr>\n    <tr>\n      <th>2</th>\n      <td>2</td>\n      <td>3</td>\n      <td>0.0</td>\n      <td>0.0</td>\n      <td>0.0</td>\n      <td>0.00</td>\n      <td>0.00</td>\n      <td>0.00</td>\n      <td>0.00</td>\n      <td>0.0</td>\n      <td>0.00</td>\n      <td>0.0</td>\n      <td>0.88</td>\n      <td>0.00</td>\n      <td>0.00</td>\n      <td>0.00</td>\n      <td>0.9</td>\n      <td>2</td>\n      <td>lib_15</td>\n    </tr>\n    <tr>\n      <th>3</th>\n      <td>3</td>\n      <td>4</td>\n      <td>0.0</td>\n      <td>0.0</td>\n      <td>0.0</td>\n      <td>0.00</td>\n      <td>0.00</td>\n      <td>0.79</td>\n      <td>0.73</td>\n      <td>0.0</td>\n      <td>0.00</td>\n      <td>0.0</td>\n      <td>0.00</td>\n      <td>0.00</td>\n      <td>0.00</td>\n      <td>0.00</td>\n      <td>0.0</td>\n      <td>2</td>\n      <td>lib_5</td>\n    </tr>\n    <tr>\n      <th>4</th>\n      <td>4</td>\n      <td>6</td>\n      <td>0.0</td>\n      <td>0.0</td>\n      <td>0.0</td>\n      <td>0.00</td>\n      <td>0.00</td>\n      <td>0.00</td>\n      <td>0.00</td>\n      <td>0.0</td>\n      <td>0.00</td>\n      <td>0.0</td>\n      <td>0.00</td>\n      <td>0.86</td>\n      <td>0.00</td>\n      <td>0.87</td>\n      <td>0.0</td>\n      <td>2</td>\n      <td>lib_13</td>\n    </tr>\n    <tr>\n      <th>...</th>\n      <td>...</td>\n      <td>...</td>\n      <td>...</td>\n      <td>...</td>\n      <td>...</td>\n      <td>...</td>\n      <td>...</td>\n      <td>...</td>\n      <td>...</td>\n      <td>...</td>\n      <td>...</td>\n      <td>...</td>\n      <td>...</td>\n      <td>...</td>\n      <td>...</td>\n      <td>...</td>\n      <td>...</td>\n      <td>...</td>\n      <td>...</td>\n    </tr>\n    <tr>\n      <th>2876</th>\n      <td>3313</td>\n      <td>3511</td>\n      <td>0.0</td>\n      <td>0.0</td>\n      <td>0.0</td>\n      <td>0.74</td>\n      <td>0.00</td>\n      <td>0.90</td>\n      <td>0.00</td>\n      <td>0.0</td>\n      <td>0.00</td>\n      <td>0.0</td>\n      <td>0.00</td>\n      <td>0.00</td>\n      <td>0.00</td>\n      <td>0.00</td>\n      <td>0.0</td>\n      <td>2</td>\n      <td>lib_3</td>\n    </tr>\n    <tr>\n      <th>2877</th>\n      <td>3314</td>\n      <td>3512</td>\n      <td>0.0</td>\n      <td>0.0</td>\n      <td>0.0</td>\n      <td>0.00</td>\n      <td>0.90</td>\n      <td>0.90</td>\n      <td>0.00</td>\n      <td>0.0</td>\n      <td>0.00</td>\n      <td>0.0</td>\n      <td>0.00</td>\n      <td>0.00</td>\n      <td>0.00</td>\n      <td>0.00</td>\n      <td>0.0</td>\n      <td>2</td>\n      <td>lib_4</td>\n    </tr>\n    <tr>\n      <th>2878</th>\n      <td>3315</td>\n      <td>3513</td>\n      <td>0.0</td>\n      <td>0.0</td>\n      <td>0.0</td>\n      <td>0.86</td>\n      <td>0.00</td>\n      <td>0.90</td>\n      <td>0.00</td>\n      <td>0.0</td>\n      <td>0.00</td>\n      <td>0.0</td>\n      <td>0.00</td>\n      <td>0.00</td>\n      <td>0.00</td>\n      <td>0.00</td>\n      <td>0.0</td>\n      <td>2</td>\n      <td>lib_3</td>\n    </tr>\n    <tr>\n      <th>2879</th>\n      <td>3316</td>\n      <td>3514</td>\n      <td>0.0</td>\n      <td>0.0</td>\n      <td>0.0</td>\n      <td>0.63</td>\n      <td>0.00</td>\n      <td>0.00</td>\n      <td>0.00</td>\n      <td>0.0</td>\n      <td>0.85</td>\n      <td>0.0</td>\n      <td>0.00</td>\n      <td>0.00</td>\n      <td>0.00</td>\n      <td>0.00</td>\n      <td>0.0</td>\n      <td>2</td>\n      <td>lib_7</td>\n    </tr>\n    <tr>\n      <th>2880</th>\n      <td>3317</td>\n      <td>3517</td>\n      <td>0.0</td>\n      <td>0.0</td>\n      <td>0.0</td>\n      <td>0.00</td>\n      <td>0.00</td>\n      <td>0.00</td>\n      <td>0.00</td>\n      <td>0.0</td>\n      <td>0.00</td>\n      <td>0.0</td>\n      <td>0.00</td>\n      <td>0.00</td>\n      <td>0.83</td>\n      <td>0.00</td>\n      <td>0.9</td>\n      <td>2</td>\n      <td>lib_16</td>\n    </tr>\n  </tbody>\n</table>\n<p>2881 rows × 19 columns</p>\n</div>"
     },
     "execution_count": 36,
     "metadata": {},
     "output_type": "execute_result"
    }
   ],
   "source": [
    "fov_count = pd.read_csv(rf'X:\\sandbox\\zp_auto_080524_late_exp_100x\\demultiplexing_model\\demultiplexing_results\\fov_{fov_to_predict}.csv')\n",
    "# fov_count.predicted_sample.value_counts()\n",
    "fov_count"
   ],
   "metadata": {
    "collapsed": false,
    "pycharm": {
     "name": "#%%\n"
    }
   }
  },
  {
   "cell_type": "code",
   "execution_count": 43,
   "outputs": [],
   "source": [
    "import pandas as pd\n",
    "import seaborn as sns\n",
    "import matplotlib.pyplot as plt\n",
    "i=9\n",
    "# Load data from the files\n",
    "genes_fov_path = rf'X:\\danielda\\analysis\\zp_auto_080524_late_exp_100x\\demultiplexing\\genes_fov_{i}_demult.txt'\n",
    "fov_7_path = rf'X:\\sandbox\\zp_auto_080524_late_exp_100x\\demultiplexing_model\\demultiplexing_results\\fov_{i}.csv'\n",
    "\n",
    "genes_df = pd.read_csv(genes_fov_path, sep='\\t')\n",
    "fov_df = pd.read_csv(fov_7_path)\n",
    "\n",
    "# Merge the dataframes on cell_id\n",
    "merged_df = pd.merge(genes_df[['cell_id', 'sample_name']], fov_df[['cell_id', 'predicted_sample']], on='cell_id')\n",
    "\n",
    "# Create a confusion matrix\n",
    "confusion_matrix = pd.crosstab(merged_df['sample_name'], merged_df['predicted_sample'], rownames=['Actual'], colnames=['Predicted'])\n",
    "\n",
    "# Plot the heatmap\n",
    "plt.figure(figsize=(12, 10))\n",
    "sns.heatmap(confusion_matrix, annot=True, fmt='d', cmap='Blues')\n",
    "plt.title('Heatmap of Agreement/Disagreement between Sample Names')\n",
    "plt.show()\n"
   ],
   "metadata": {
    "collapsed": false,
    "pycharm": {
     "name": "#%%\n"
    }
   }
  },
  {
   "cell_type": "code",
   "execution_count": 15,
   "outputs": [
    {
     "name": "stdout",
     "output_type": "stream",
     "text": [
      "genes_QC\\no_signal 1\n",
      "6\n",
      "genes_QC\\lib_5 2\n",
      "6\n",
      "genes_QC\\lib_2 3\n",
      "6\n",
      "genes_QC\\lib_15 4\n",
      "6\n",
      "genes_QC\\lib_13 5\n",
      "6\n",
      "genes_QC\\lib_6 6\n",
      "6\n",
      "genes_QC\\lib_12 7\n",
      "6\n",
      "genes_QC\\no_signal 8\n",
      "6\n",
      "genes_QC\\lib_16 9\n",
      "6\n",
      "genes_QC\\lib_16 10\n",
      "6\n",
      "genes_QC\\lib_13 11\n",
      "6\n",
      "genes_QC\\lib_4 12\n",
      "6\n",
      "genes_QC\\lib_3 13\n",
      "6\n",
      "genes_QC\\lib_11 14\n",
      "6\n",
      "genes_QC\\lib_2 15\n",
      "6\n",
      "genes_QC\\lib_15 16\n",
      "6\n",
      "genes_QC\\lib_13 17\n",
      "6\n",
      "genes_QC\\lib_13 18\n",
      "6\n",
      "genes_QC\\lib_16 19\n",
      "6\n",
      "genes_QC\\lib_1 20\n",
      "6\n",
      "genes_QC\\no_lib 21\n",
      "6\n",
      "genes_QC\\lib_3 22\n",
      "6\n",
      "genes_QC\\no_signal 23\n",
      "6\n",
      "genes_QC\\lib_7 24\n",
      "6\n",
      "genes_QC\\lib_10 25\n",
      "6\n",
      "genes_QC\\lib_6 26\n",
      "6\n",
      "genes_QC\\no_signal 27\n",
      "6\n",
      "genes_QC\\lib_15 28\n",
      "6\n",
      "genes_QC\\lib_8 29\n",
      "6\n",
      "genes_QC\\lib_5 30\n",
      "6\n",
      "genes_QC\\lib_10 31\n",
      "6\n",
      "genes_QC\\lib_3 32\n",
      "6\n",
      "genes_QC\\lib_12 33\n",
      "6\n",
      "genes_QC\\lib_14 34\n",
      "6\n",
      "genes_QC\\lib_15 35\n",
      "6\n",
      "genes_QC\\lib_3 36\n",
      "6\n",
      "genes_QC\\lib_12 37\n",
      "6\n",
      "genes_QC\\lib_7 38\n",
      "6\n",
      "genes_QC\\lib_3 39\n",
      "6\n",
      "genes_QC\\lib_3 40\n",
      "6\n",
      "genes_QC\\lib_9 41\n",
      "6\n",
      "genes_QC\\lib_16 42\n",
      "6\n",
      "genes_QC\\lib_12 43\n",
      "6\n",
      "genes_QC\\lib_11 44\n",
      "6\n",
      "genes_QC\\lib_8 45\n",
      "6\n",
      "genes_QC\\lib_9 46\n",
      "6\n",
      "genes_QC\\lib_5 47\n",
      "6\n",
      "genes_QC\\lib_5 48\n",
      "6\n",
      "genes_QC\\lib_7 49\n",
      "6\n",
      "genes_QC\\lib_11 50\n",
      "6\n",
      "genes_QC\\partial_signal 51\n",
      "6\n",
      "genes_QC\\lib_11 52\n",
      "6\n",
      "genes_QC\\lib_13 53\n",
      "6\n",
      "genes_QC\\lib_16 54\n",
      "6\n",
      "genes_QC\\lib_11 55\n",
      "6\n",
      "genes_QC\\lib_16 56\n",
      "6\n",
      "genes_QC\\lib_1 57\n",
      "6\n",
      "genes_QC\\lib_13 58\n",
      "6\n",
      "genes_QC\\lib_15 59\n",
      "6\n",
      "genes_QC\\lib_6 60\n",
      "6\n",
      "genes_QC\\lib_4 61\n",
      "6\n",
      "genes_QC\\lib_12 62\n",
      "6\n",
      "genes_QC\\lib_3 63\n",
      "6\n",
      "genes_QC\\partial_signal 64\n",
      "6\n",
      "genes_QC\\lib_1 65\n",
      "6\n",
      "genes_QC\\lib_1 66\n",
      "6\n",
      "genes_QC\\lib_13 67\n",
      "6\n",
      "genes_QC\\partial_signal 68\n",
      "6\n",
      "genes_QC\\lib_8 69\n",
      "6\n",
      "genes_QC\\no_signal 70\n",
      "6\n",
      "genes_QC\\lib_7 71\n",
      "6\n",
      "genes_QC\\no_lib 72\n",
      "6\n",
      "genes_QC\\no_signal 73\n",
      "6\n",
      "genes_QC\\lib_8 74\n",
      "6\n",
      "genes_QC\\no_signal 75\n",
      "6\n",
      "genes_QC\\no_lib 76\n",
      "6\n",
      "genes_QC\\lib_9 77\n",
      "6\n",
      "genes_QC\\no_signal 78\n",
      "6\n",
      "genes_QC\\lib_10 79\n",
      "6\n",
      "genes_QC\\lib_9 80\n",
      "6\n",
      "genes_QC\\lib_6 81\n",
      "6\n",
      "genes_QC\\lib_1 82\n",
      "6\n",
      "genes_QC\\lib_10 83\n",
      "6\n",
      "genes_QC\\lib_10 84\n",
      "6\n",
      "genes_QC\\lib_10 85\n",
      "6\n",
      "genes_QC\\lib_10 86\n",
      "6\n",
      "genes_QC\\lib_11 87\n",
      "6\n",
      "genes_QC\\lib_1 88\n",
      "6\n",
      "genes_QC\\lib_16 89\n",
      "6\n",
      "genes_QC\\lib_3 90\n",
      "6\n",
      "genes_QC\\no_signal 91\n",
      "6\n",
      "genes_QC\\lib_7 92\n",
      "6\n",
      "genes_QC\\partial_signal 93\n",
      "6\n",
      "genes_QC\\lib_6 94\n",
      "6\n",
      "genes_QC\\lib_16 95\n",
      "6\n",
      "genes_QC\\lib_11 96\n",
      "6\n",
      "genes_QC\\lib_6 97\n",
      "6\n",
      "genes_QC\\lib_6 98\n",
      "6\n",
      "genes_QC\\lib_7 99\n",
      "6\n",
      "genes_QC\\lib_9 100\n",
      "6\n",
      "genes_QC\\no_signal 101\n",
      "6\n",
      "genes_QC\\lib_12 102\n",
      "6\n",
      "genes_QC\\lib_5 103\n",
      "6\n",
      "genes_QC\\lib_8 105\n",
      "6\n",
      "genes_QC\\no_lib 106\n",
      "6\n",
      "genes_QC\\lib_16 107\n",
      "6\n",
      "genes_QC\\lib_16 108\n",
      "6\n",
      "genes_QC\\no_lib 109\n",
      "6\n",
      "genes_QC\\lib_2 110\n",
      "6\n",
      "genes_QC\\lib_11 111\n",
      "6\n",
      "genes_QC\\lib_15 112\n",
      "6\n",
      "genes_QC\\lib_3 113\n",
      "6\n",
      "genes_QC\\lib_3 114\n",
      "6\n",
      "genes_QC\\lib_12 115\n",
      "6\n",
      "genes_QC\\lib_10 116\n",
      "6\n",
      "genes_QC\\lib_7 117\n",
      "6\n",
      "genes_QC\\lib_5 119\n",
      "6\n",
      "genes_QC\\no_lib 120\n",
      "6\n",
      "genes_QC\\lib_5 121\n",
      "6\n",
      "genes_QC\\lib_8 122\n",
      "6\n",
      "genes_QC\\lib_5 123\n",
      "6\n",
      "genes_QC\\lib_13 124\n",
      "6\n"
     ]
    },
    {
     "ename": "KeyboardInterrupt",
     "evalue": "",
     "output_type": "error",
     "traceback": [
      "\u001B[1;31m---------------------------------------------------------------------------\u001B[0m",
      "\u001B[1;31mKeyboardInterrupt\u001B[0m                         Traceback (most recent call last)",
      "Cell \u001B[1;32mIn[15], line 31\u001B[0m\n\u001B[0;32m     29\u001B[0m cell_id \u001B[38;5;241m=\u001B[39m row[\u001B[38;5;124m'\u001B[39m\u001B[38;5;124mcell_id\u001B[39m\u001B[38;5;124m'\u001B[39m]\n\u001B[0;32m     30\u001B[0m \u001B[38;5;28mprint\u001B[39m(folder_path, cell_id)\n\u001B[1;32m---> 31\u001B[0m \u001B[43mutils_train\u001B[49m\u001B[38;5;241;43m.\u001B[39;49m\u001B[43mplot_by_idx\u001B[49m\u001B[43m(\u001B[49m\u001B[43mcell_id\u001B[49m\u001B[43m,\u001B[49m\u001B[43m \u001B[49m\u001B[43mtemp\u001B[49m\u001B[43m,\u001B[49m\u001B[43m \u001B[49m\u001B[43mto_show\u001B[49m\u001B[43m,\u001B[49m\u001B[43m \u001B[49m\u001B[43mtitels\u001B[49m\u001B[43m,\u001B[49m\u001B[43m \u001B[49m\u001B[43msave_path\u001B[49m\u001B[38;5;241;43m=\u001B[39;49m\u001B[38;5;124;43mrf\u001B[39;49m\u001B[38;5;124;43m'\u001B[39;49m\u001B[38;5;132;43;01m{\u001B[39;49;00m\u001B[43mfolder_path\u001B[49m\u001B[38;5;132;43;01m}\u001B[39;49;00m\u001B[38;5;124;43m\\\u001B[39;49m\u001B[38;5;132;43;01m{\u001B[39;49;00m\u001B[43mcell_id\u001B[49m\u001B[38;5;132;43;01m}\u001B[39;49;00m\u001B[38;5;124;43m.png\u001B[39;49m\u001B[38;5;124;43m'\u001B[39;49m\u001B[43m)\u001B[49m\n",
      "File \u001B[1;32mX:\\sandbox\\for_yed\\new_exp\\train_probs\\utils_train.py:115\u001B[0m, in \u001B[0;36mplot_by_idx\u001B[1;34m(idx, temp, to_show, titels, save_path)\u001B[0m\n\u001B[0;32m    113\u001B[0m     plots\u001B[38;5;241m.\u001B[39mappend(temp\u001B[38;5;241m.\u001B[39mplot_random_index(idx, j, space\u001B[38;5;241m=\u001B[39m\u001B[38;5;241m5\u001B[39m))\n\u001B[0;32m    114\u001B[0m outline \u001B[38;5;241m=\u001B[39m click2\u001B[38;5;241m.\u001B[39mextract_outlines(temp\u001B[38;5;241m.\u001B[39mplot_random_index(idx, temp\u001B[38;5;241m.\u001B[39mmasks, space\u001B[38;5;241m=\u001B[39m\u001B[38;5;241m5\u001B[39m))\n\u001B[1;32m--> 115\u001B[0m \u001B[43mclick2\u001B[49m\u001B[38;5;241;43m.\u001B[39;49m\u001B[43mselection\u001B[49m\u001B[43m(\u001B[49m\u001B[43mplots\u001B[49m\u001B[43m,\u001B[49m\u001B[43m \u001B[49m\u001B[43mtitels\u001B[49m\u001B[43m,\u001B[49m\u001B[43m \u001B[49m\u001B[43msave_path\u001B[49m\u001B[43m,\u001B[49m\u001B[43m \u001B[49m\u001B[43moutline\u001B[49m\u001B[43m,\u001B[49m\u001B[43m \u001B[49m\u001B[43midx\u001B[49m\u001B[43m,\u001B[49m\u001B[43m \u001B[49m\u001B[43msave_name\u001B[49m\u001B[38;5;241;43m=\u001B[39;49m\u001B[43msave_path\u001B[49m\u001B[43m)\u001B[49m\n",
      "File \u001B[1;32mX:\\sandbox\\for_yed\\new_exp\\train_probs\\click2.py:114\u001B[0m, in \u001B[0;36mselection\u001B[1;34m(arrays, titles, save_path, outline, index, save_name)\u001B[0m\n\u001B[0;32m    113\u001B[0m \u001B[38;5;28;01mdef\u001B[39;00m \u001B[38;5;21mselection\u001B[39m(arrays, titles, save_path\u001B[38;5;241m=\u001B[39m\u001B[38;5;124m\"\u001B[39m\u001B[38;5;124mselections.csv\u001B[39m\u001B[38;5;124m\"\u001B[39m, outline \u001B[38;5;241m=\u001B[39m \u001B[38;5;28;01mNone\u001B[39;00m, index \u001B[38;5;241m=\u001B[39m \u001B[38;5;28;01mNone\u001B[39;00m, save_name \u001B[38;5;241m=\u001B[39m \u001B[38;5;28;01mNone\u001B[39;00m):\n\u001B[1;32m--> 114\u001B[0m     selector \u001B[38;5;241m=\u001B[39m \u001B[43mInteractiveImageSelector\u001B[49m\u001B[43m(\u001B[49m\u001B[43marrays\u001B[49m\u001B[43m,\u001B[49m\u001B[43m \u001B[49m\u001B[43mtitles\u001B[49m\u001B[43m,\u001B[49m\u001B[43m \u001B[49m\u001B[43msave_path\u001B[49m\u001B[43m,\u001B[49m\u001B[43m \u001B[49m\u001B[43moutline\u001B[49m\u001B[43m,\u001B[49m\u001B[43m \u001B[49m\u001B[43mindex\u001B[49m\u001B[43m)\u001B[49m\n\u001B[0;32m    115\u001B[0m     mng \u001B[38;5;241m=\u001B[39m plt\u001B[38;5;241m.\u001B[39mget_current_fig_manager()\n\u001B[0;32m    116\u001B[0m     mng\u001B[38;5;241m.\u001B[39mwindow\u001B[38;5;241m.\u001B[39mgeometry(\u001B[38;5;124m\"\u001B[39m\u001B[38;5;124m2200x1500+50+100\u001B[39m\u001B[38;5;124m\"\u001B[39m)\n",
      "File \u001B[1;32mX:\\sandbox\\for_yed\\new_exp\\train_probs\\click2.py:40\u001B[0m, in \u001B[0;36mInteractiveImageSelector.__init__\u001B[1;34m(self, arrays, titles, save_path, outline, index)\u001B[0m\n\u001B[0;32m     38\u001B[0m \u001B[38;5;28mprint\u001B[39m(n_rows)\n\u001B[0;32m     39\u001B[0m \u001B[38;5;66;03m# Setup figure and axes for a 3x4 grid\u001B[39;00m\n\u001B[1;32m---> 40\u001B[0m \u001B[38;5;28mself\u001B[39m\u001B[38;5;241m.\u001B[39mfig, \u001B[38;5;28mself\u001B[39m\u001B[38;5;241m.\u001B[39mbase_axes \u001B[38;5;241m=\u001B[39m \u001B[43mplt\u001B[49m\u001B[38;5;241;43m.\u001B[39;49m\u001B[43msubplots\u001B[49m\u001B[43m(\u001B[49m\u001B[43mn_rows\u001B[49m\u001B[43m,\u001B[49m\u001B[43m \u001B[49m\u001B[38;5;241;43m3\u001B[39;49m\u001B[43m,\u001B[49m\u001B[43m \u001B[49m\u001B[43mfigsize\u001B[49m\u001B[38;5;241;43m=\u001B[39;49m\u001B[43m(\u001B[49m\u001B[38;5;241;43m20\u001B[39;49m\u001B[43m,\u001B[49m\u001B[43m \u001B[49m\u001B[38;5;241;43m15\u001B[39;49m\u001B[43m)\u001B[49m\u001B[43m)\u001B[49m\n\u001B[0;32m     41\u001B[0m \u001B[38;5;28mself\u001B[39m\u001B[38;5;241m.\u001B[39mbase_axes \u001B[38;5;241m=\u001B[39m \u001B[38;5;28mself\u001B[39m\u001B[38;5;241m.\u001B[39mbase_axes\u001B[38;5;241m.\u001B[39mflatten()  \u001B[38;5;66;03m# Flatten the array to iterate over it\u001B[39;00m\n\u001B[0;32m     42\u001B[0m \u001B[38;5;28mself\u001B[39m\u001B[38;5;241m.\u001B[39mslider_axes_vmin \u001B[38;5;241m=\u001B[39m plt\u001B[38;5;241m.\u001B[39maxes([\u001B[38;5;241m0.2\u001B[39m, \u001B[38;5;241m0.01\u001B[39m, \u001B[38;5;241m0.65\u001B[39m, \u001B[38;5;241m0.03\u001B[39m], facecolor\u001B[38;5;241m=\u001B[39m\u001B[38;5;124m'\u001B[39m\u001B[38;5;124mlightgoldenrodyellow\u001B[39m\u001B[38;5;124m'\u001B[39m)\n",
      "File \u001B[1;32m~\\Anaconda3\\envs\\piplnew\\lib\\site-packages\\matplotlib\\pyplot.py:1442\u001B[0m, in \u001B[0;36msubplots\u001B[1;34m(nrows, ncols, sharex, sharey, squeeze, width_ratios, height_ratios, subplot_kw, gridspec_kw, **fig_kw)\u001B[0m\n\u001B[0;32m   1296\u001B[0m \u001B[38;5;28;01mdef\u001B[39;00m \u001B[38;5;21msubplots\u001B[39m(nrows\u001B[38;5;241m=\u001B[39m\u001B[38;5;241m1\u001B[39m, ncols\u001B[38;5;241m=\u001B[39m\u001B[38;5;241m1\u001B[39m, \u001B[38;5;241m*\u001B[39m, sharex\u001B[38;5;241m=\u001B[39m\u001B[38;5;28;01mFalse\u001B[39;00m, sharey\u001B[38;5;241m=\u001B[39m\u001B[38;5;28;01mFalse\u001B[39;00m, squeeze\u001B[38;5;241m=\u001B[39m\u001B[38;5;28;01mTrue\u001B[39;00m,\n\u001B[0;32m   1297\u001B[0m              width_ratios\u001B[38;5;241m=\u001B[39m\u001B[38;5;28;01mNone\u001B[39;00m, height_ratios\u001B[38;5;241m=\u001B[39m\u001B[38;5;28;01mNone\u001B[39;00m,\n\u001B[0;32m   1298\u001B[0m              subplot_kw\u001B[38;5;241m=\u001B[39m\u001B[38;5;28;01mNone\u001B[39;00m, gridspec_kw\u001B[38;5;241m=\u001B[39m\u001B[38;5;28;01mNone\u001B[39;00m, \u001B[38;5;241m*\u001B[39m\u001B[38;5;241m*\u001B[39mfig_kw):\n\u001B[0;32m   1299\u001B[0m \u001B[38;5;250m    \u001B[39m\u001B[38;5;124;03m\"\"\"\u001B[39;00m\n\u001B[0;32m   1300\u001B[0m \u001B[38;5;124;03m    Create a figure and a set of subplots.\u001B[39;00m\n\u001B[0;32m   1301\u001B[0m \n\u001B[1;32m   (...)\u001B[0m\n\u001B[0;32m   1440\u001B[0m \n\u001B[0;32m   1441\u001B[0m \u001B[38;5;124;03m    \"\"\"\u001B[39;00m\n\u001B[1;32m-> 1442\u001B[0m     fig \u001B[38;5;241m=\u001B[39m \u001B[43mfigure\u001B[49m\u001B[43m(\u001B[49m\u001B[38;5;241;43m*\u001B[39;49m\u001B[38;5;241;43m*\u001B[39;49m\u001B[43mfig_kw\u001B[49m\u001B[43m)\u001B[49m\n\u001B[0;32m   1443\u001B[0m     axs \u001B[38;5;241m=\u001B[39m fig\u001B[38;5;241m.\u001B[39msubplots(nrows\u001B[38;5;241m=\u001B[39mnrows, ncols\u001B[38;5;241m=\u001B[39mncols, sharex\u001B[38;5;241m=\u001B[39msharex, sharey\u001B[38;5;241m=\u001B[39msharey,\n\u001B[0;32m   1444\u001B[0m                        squeeze\u001B[38;5;241m=\u001B[39msqueeze, subplot_kw\u001B[38;5;241m=\u001B[39msubplot_kw,\n\u001B[0;32m   1445\u001B[0m                        gridspec_kw\u001B[38;5;241m=\u001B[39mgridspec_kw, height_ratios\u001B[38;5;241m=\u001B[39mheight_ratios,\n\u001B[0;32m   1446\u001B[0m                        width_ratios\u001B[38;5;241m=\u001B[39mwidth_ratios)\n\u001B[0;32m   1447\u001B[0m     \u001B[38;5;28;01mreturn\u001B[39;00m fig, axs\n",
      "File \u001B[1;32m~\\Anaconda3\\envs\\piplnew\\lib\\site-packages\\matplotlib\\_api\\deprecation.py:454\u001B[0m, in \u001B[0;36mmake_keyword_only.<locals>.wrapper\u001B[1;34m(*args, **kwargs)\u001B[0m\n\u001B[0;32m    448\u001B[0m \u001B[38;5;28;01mif\u001B[39;00m \u001B[38;5;28mlen\u001B[39m(args) \u001B[38;5;241m>\u001B[39m name_idx:\n\u001B[0;32m    449\u001B[0m     warn_deprecated(\n\u001B[0;32m    450\u001B[0m         since, message\u001B[38;5;241m=\u001B[39m\u001B[38;5;124m\"\u001B[39m\u001B[38;5;124mPassing the \u001B[39m\u001B[38;5;132;01m%(name)s\u001B[39;00m\u001B[38;5;124m \u001B[39m\u001B[38;5;132;01m%(obj_type)s\u001B[39;00m\u001B[38;5;124m \u001B[39m\u001B[38;5;124m\"\u001B[39m\n\u001B[0;32m    451\u001B[0m         \u001B[38;5;124m\"\u001B[39m\u001B[38;5;124mpositionally is deprecated since Matplotlib \u001B[39m\u001B[38;5;132;01m%(since)s\u001B[39;00m\u001B[38;5;124m; the \u001B[39m\u001B[38;5;124m\"\u001B[39m\n\u001B[0;32m    452\u001B[0m         \u001B[38;5;124m\"\u001B[39m\u001B[38;5;124mparameter will become keyword-only \u001B[39m\u001B[38;5;132;01m%(removal)s\u001B[39;00m\u001B[38;5;124m.\u001B[39m\u001B[38;5;124m\"\u001B[39m,\n\u001B[0;32m    453\u001B[0m         name\u001B[38;5;241m=\u001B[39mname, obj_type\u001B[38;5;241m=\u001B[39m\u001B[38;5;124mf\u001B[39m\u001B[38;5;124m\"\u001B[39m\u001B[38;5;124mparameter of \u001B[39m\u001B[38;5;132;01m{\u001B[39;00mfunc\u001B[38;5;241m.\u001B[39m\u001B[38;5;18m__name__\u001B[39m\u001B[38;5;132;01m}\u001B[39;00m\u001B[38;5;124m()\u001B[39m\u001B[38;5;124m\"\u001B[39m)\n\u001B[1;32m--> 454\u001B[0m \u001B[38;5;28;01mreturn\u001B[39;00m \u001B[43mfunc\u001B[49m\u001B[43m(\u001B[49m\u001B[38;5;241;43m*\u001B[39;49m\u001B[43margs\u001B[49m\u001B[43m,\u001B[49m\u001B[43m \u001B[49m\u001B[38;5;241;43m*\u001B[39;49m\u001B[38;5;241;43m*\u001B[39;49m\u001B[43mkwargs\u001B[49m\u001B[43m)\u001B[49m\n",
      "File \u001B[1;32m~\\Anaconda3\\envs\\piplnew\\lib\\site-packages\\matplotlib\\pyplot.py:783\u001B[0m, in \u001B[0;36mfigure\u001B[1;34m(num, figsize, dpi, facecolor, edgecolor, frameon, FigureClass, clear, **kwargs)\u001B[0m\n\u001B[0;32m    773\u001B[0m \u001B[38;5;28;01mif\u001B[39;00m \u001B[38;5;28mlen\u001B[39m(allnums) \u001B[38;5;241m==\u001B[39m max_open_warning \u001B[38;5;241m>\u001B[39m\u001B[38;5;241m=\u001B[39m \u001B[38;5;241m1\u001B[39m:\n\u001B[0;32m    774\u001B[0m     _api\u001B[38;5;241m.\u001B[39mwarn_external(\n\u001B[0;32m    775\u001B[0m         \u001B[38;5;124mf\u001B[39m\u001B[38;5;124m\"\u001B[39m\u001B[38;5;124mMore than \u001B[39m\u001B[38;5;132;01m{\u001B[39;00mmax_open_warning\u001B[38;5;132;01m}\u001B[39;00m\u001B[38;5;124m figures have been opened. \u001B[39m\u001B[38;5;124m\"\u001B[39m\n\u001B[0;32m    776\u001B[0m         \u001B[38;5;124mf\u001B[39m\u001B[38;5;124m\"\u001B[39m\u001B[38;5;124mFigures created through the pyplot interface \u001B[39m\u001B[38;5;124m\"\u001B[39m\n\u001B[1;32m   (...)\u001B[0m\n\u001B[0;32m    780\u001B[0m         \u001B[38;5;124mf\u001B[39m\u001B[38;5;124m\"\u001B[39m\u001B[38;5;124mConsider using `matplotlib.pyplot.close()`.\u001B[39m\u001B[38;5;124m\"\u001B[39m,\n\u001B[0;32m    781\u001B[0m         \u001B[38;5;167;01mRuntimeWarning\u001B[39;00m)\n\u001B[1;32m--> 783\u001B[0m manager \u001B[38;5;241m=\u001B[39m \u001B[43mnew_figure_manager\u001B[49m\u001B[43m(\u001B[49m\n\u001B[0;32m    784\u001B[0m \u001B[43m    \u001B[49m\u001B[43mnum\u001B[49m\u001B[43m,\u001B[49m\u001B[43m \u001B[49m\u001B[43mfigsize\u001B[49m\u001B[38;5;241;43m=\u001B[39;49m\u001B[43mfigsize\u001B[49m\u001B[43m,\u001B[49m\u001B[43m \u001B[49m\u001B[43mdpi\u001B[49m\u001B[38;5;241;43m=\u001B[39;49m\u001B[43mdpi\u001B[49m\u001B[43m,\u001B[49m\n\u001B[0;32m    785\u001B[0m \u001B[43m    \u001B[49m\u001B[43mfacecolor\u001B[49m\u001B[38;5;241;43m=\u001B[39;49m\u001B[43mfacecolor\u001B[49m\u001B[43m,\u001B[49m\u001B[43m \u001B[49m\u001B[43medgecolor\u001B[49m\u001B[38;5;241;43m=\u001B[39;49m\u001B[43medgecolor\u001B[49m\u001B[43m,\u001B[49m\u001B[43m \u001B[49m\u001B[43mframeon\u001B[49m\u001B[38;5;241;43m=\u001B[39;49m\u001B[43mframeon\u001B[49m\u001B[43m,\u001B[49m\n\u001B[0;32m    786\u001B[0m \u001B[43m    \u001B[49m\u001B[43mFigureClass\u001B[49m\u001B[38;5;241;43m=\u001B[39;49m\u001B[43mFigureClass\u001B[49m\u001B[43m,\u001B[49m\u001B[43m \u001B[49m\u001B[38;5;241;43m*\u001B[39;49m\u001B[38;5;241;43m*\u001B[39;49m\u001B[43mkwargs\u001B[49m\u001B[43m)\u001B[49m\n\u001B[0;32m    787\u001B[0m fig \u001B[38;5;241m=\u001B[39m manager\u001B[38;5;241m.\u001B[39mcanvas\u001B[38;5;241m.\u001B[39mfigure\n\u001B[0;32m    788\u001B[0m \u001B[38;5;28;01mif\u001B[39;00m fig_label:\n",
      "File \u001B[1;32m~\\Anaconda3\\envs\\piplnew\\lib\\site-packages\\matplotlib\\pyplot.py:359\u001B[0m, in \u001B[0;36mnew_figure_manager\u001B[1;34m(*args, **kwargs)\u001B[0m\n\u001B[0;32m    357\u001B[0m \u001B[38;5;250m\u001B[39m\u001B[38;5;124;03m\"\"\"Create a new figure manager instance.\"\"\"\u001B[39;00m\n\u001B[0;32m    358\u001B[0m _warn_if_gui_out_of_main_thread()\n\u001B[1;32m--> 359\u001B[0m \u001B[38;5;28;01mreturn\u001B[39;00m \u001B[43m_get_backend_mod\u001B[49m\u001B[43m(\u001B[49m\u001B[43m)\u001B[49m\u001B[38;5;241;43m.\u001B[39;49m\u001B[43mnew_figure_manager\u001B[49m\u001B[43m(\u001B[49m\u001B[38;5;241;43m*\u001B[39;49m\u001B[43margs\u001B[49m\u001B[43m,\u001B[49m\u001B[43m \u001B[49m\u001B[38;5;241;43m*\u001B[39;49m\u001B[38;5;241;43m*\u001B[39;49m\u001B[43mkwargs\u001B[49m\u001B[43m)\u001B[49m\n",
      "File \u001B[1;32m~\\Anaconda3\\envs\\piplnew\\lib\\site-packages\\matplotlib\\backend_bases.py:3505\u001B[0m, in \u001B[0;36m_Backend.new_figure_manager\u001B[1;34m(cls, num, *args, **kwargs)\u001B[0m\n\u001B[0;32m   3503\u001B[0m fig_cls \u001B[38;5;241m=\u001B[39m kwargs\u001B[38;5;241m.\u001B[39mpop(\u001B[38;5;124m'\u001B[39m\u001B[38;5;124mFigureClass\u001B[39m\u001B[38;5;124m'\u001B[39m, Figure)\n\u001B[0;32m   3504\u001B[0m fig \u001B[38;5;241m=\u001B[39m fig_cls(\u001B[38;5;241m*\u001B[39margs, \u001B[38;5;241m*\u001B[39m\u001B[38;5;241m*\u001B[39mkwargs)\n\u001B[1;32m-> 3505\u001B[0m \u001B[38;5;28;01mreturn\u001B[39;00m \u001B[38;5;28;43mcls\u001B[39;49m\u001B[38;5;241;43m.\u001B[39;49m\u001B[43mnew_figure_manager_given_figure\u001B[49m\u001B[43m(\u001B[49m\u001B[43mnum\u001B[49m\u001B[43m,\u001B[49m\u001B[43m \u001B[49m\u001B[43mfig\u001B[49m\u001B[43m)\u001B[49m\n",
      "File \u001B[1;32m~\\Anaconda3\\envs\\piplnew\\lib\\site-packages\\matplotlib\\backend_bases.py:3510\u001B[0m, in \u001B[0;36m_Backend.new_figure_manager_given_figure\u001B[1;34m(cls, num, figure)\u001B[0m\n\u001B[0;32m   3507\u001B[0m \u001B[38;5;129m@classmethod\u001B[39m\n\u001B[0;32m   3508\u001B[0m \u001B[38;5;28;01mdef\u001B[39;00m \u001B[38;5;21mnew_figure_manager_given_figure\u001B[39m(\u001B[38;5;28mcls\u001B[39m, num, figure):\n\u001B[0;32m   3509\u001B[0m \u001B[38;5;250m    \u001B[39m\u001B[38;5;124;03m\"\"\"Create a new figure manager instance for the given figure.\"\"\"\u001B[39;00m\n\u001B[1;32m-> 3510\u001B[0m     \u001B[38;5;28;01mreturn\u001B[39;00m \u001B[38;5;28;43mcls\u001B[39;49m\u001B[38;5;241;43m.\u001B[39;49m\u001B[43mFigureCanvas\u001B[49m\u001B[38;5;241;43m.\u001B[39;49m\u001B[43mnew_manager\u001B[49m\u001B[43m(\u001B[49m\u001B[43mfigure\u001B[49m\u001B[43m,\u001B[49m\u001B[43m \u001B[49m\u001B[43mnum\u001B[49m\u001B[43m)\u001B[49m\n",
      "File \u001B[1;32m~\\Anaconda3\\envs\\piplnew\\lib\\site-packages\\matplotlib\\backend_bases.py:1703\u001B[0m, in \u001B[0;36mFigureCanvasBase.new_manager\u001B[1;34m(cls, figure, num)\u001B[0m\n\u001B[0;32m   1692\u001B[0m \u001B[38;5;129m@classmethod\u001B[39m\n\u001B[0;32m   1693\u001B[0m \u001B[38;5;28;01mdef\u001B[39;00m \u001B[38;5;21mnew_manager\u001B[39m(\u001B[38;5;28mcls\u001B[39m, figure, num):\n\u001B[0;32m   1694\u001B[0m \u001B[38;5;250m    \u001B[39m\u001B[38;5;124;03m\"\"\"\u001B[39;00m\n\u001B[0;32m   1695\u001B[0m \u001B[38;5;124;03m    Create a new figure manager for *figure*, using this canvas class.\u001B[39;00m\n\u001B[0;32m   1696\u001B[0m \n\u001B[1;32m   (...)\u001B[0m\n\u001B[0;32m   1701\u001B[0m \u001B[38;5;124;03m    ``FigureManager.create_with_canvas``.\u001B[39;00m\n\u001B[0;32m   1702\u001B[0m \u001B[38;5;124;03m    \"\"\"\u001B[39;00m\n\u001B[1;32m-> 1703\u001B[0m     \u001B[38;5;28;01mreturn\u001B[39;00m \u001B[38;5;28;43mcls\u001B[39;49m\u001B[38;5;241;43m.\u001B[39;49m\u001B[43mmanager_class\u001B[49m\u001B[38;5;241;43m.\u001B[39;49m\u001B[43mcreate_with_canvas\u001B[49m\u001B[43m(\u001B[49m\u001B[38;5;28;43mcls\u001B[39;49m\u001B[43m,\u001B[49m\u001B[43m \u001B[49m\u001B[43mfigure\u001B[49m\u001B[43m,\u001B[49m\u001B[43m \u001B[49m\u001B[43mnum\u001B[49m\u001B[43m)\u001B[49m\n",
      "File \u001B[1;32m~\\Anaconda3\\envs\\piplnew\\lib\\site-packages\\matplotlib\\backends\\_backend_tk.py:457\u001B[0m, in \u001B[0;36mFigureManagerTk.create_with_canvas\u001B[1;34m(cls, canvas_class, figure, num)\u001B[0m\n\u001B[0;32m    455\u001B[0m     cbook\u001B[38;5;241m.\u001B[39m_setup_new_guiapp()\n\u001B[0;32m    456\u001B[0m     _c_internal_utils\u001B[38;5;241m.\u001B[39mWin32_SetProcessDpiAwareness_max()\n\u001B[1;32m--> 457\u001B[0m window \u001B[38;5;241m=\u001B[39m \u001B[43mtk\u001B[49m\u001B[38;5;241;43m.\u001B[39;49m\u001B[43mTk\u001B[49m\u001B[43m(\u001B[49m\u001B[43mclassName\u001B[49m\u001B[38;5;241;43m=\u001B[39;49m\u001B[38;5;124;43m\"\u001B[39;49m\u001B[38;5;124;43mmatplotlib\u001B[39;49m\u001B[38;5;124;43m\"\u001B[39;49m\u001B[43m)\u001B[49m\n\u001B[0;32m    458\u001B[0m window\u001B[38;5;241m.\u001B[39mwithdraw()\n\u001B[0;32m    460\u001B[0m \u001B[38;5;66;03m# Put a Matplotlib icon on the window rather than the default tk\u001B[39;00m\n\u001B[0;32m    461\u001B[0m \u001B[38;5;66;03m# icon. See https://www.tcl.tk/man/tcl/TkCmd/wm.html#M50\u001B[39;00m\n\u001B[0;32m    462\u001B[0m \u001B[38;5;66;03m#\u001B[39;00m\n\u001B[0;32m    463\u001B[0m \u001B[38;5;66;03m# `ImageTk` can be replaced with `tk` whenever the minimum\u001B[39;00m\n\u001B[0;32m    464\u001B[0m \u001B[38;5;66;03m# supported Tk version is increased to 8.6, as Tk 8.6+ natively\u001B[39;00m\n\u001B[0;32m    465\u001B[0m \u001B[38;5;66;03m# supports PNG images.\u001B[39;00m\n",
      "File \u001B[1;32m~\\Anaconda3\\envs\\piplnew\\lib\\tkinter\\__init__.py:2270\u001B[0m, in \u001B[0;36mTk.__init__\u001B[1;34m(self, screenName, baseName, className, useTk, sync, use)\u001B[0m\n\u001B[0;32m   2268\u001B[0m         baseName \u001B[38;5;241m=\u001B[39m baseName \u001B[38;5;241m+\u001B[39m ext\n\u001B[0;32m   2269\u001B[0m interactive \u001B[38;5;241m=\u001B[39m \u001B[38;5;241m0\u001B[39m\n\u001B[1;32m-> 2270\u001B[0m \u001B[38;5;28;43mself\u001B[39;49m\u001B[38;5;241;43m.\u001B[39;49m\u001B[43mtk\u001B[49m \u001B[38;5;241m=\u001B[39m _tkinter\u001B[38;5;241m.\u001B[39mcreate(screenName, baseName, className, interactive, wantobjects, useTk, sync, use)\n\u001B[0;32m   2271\u001B[0m \u001B[38;5;28;01mif\u001B[39;00m useTk:\n\u001B[0;32m   2272\u001B[0m     \u001B[38;5;28mself\u001B[39m\u001B[38;5;241m.\u001B[39m_loadtk()\n",
      "\u001B[1;31mKeyboardInterrupt\u001B[0m: "
     ]
    }
   ],
   "source": [
    "\n",
    "# Directory where you want to check/create folders\n",
    "base_dir = \"genes_QC\"\n",
    "\n",
    "# Initialize a dictionary to count occurrences of each folder\n",
    "folder_count = {}\n",
    "\n",
    "for index, row in df.iterrows():\n",
    "\n",
    "    folder_name = f\"{row['predicted_sample']}\"\n",
    "    folder_path = os.path.join(base_dir, folder_name)\n",
    "\n",
    "    # Increase the counter for this folder_name or initialize it\n",
    "    if folder_name in folder_count:\n",
    "        folder_count[folder_name] += 1\n",
    "    else:\n",
    "        folder_count[folder_name] = 1\n",
    "\n",
    "    # Skip processing if this folder_name has appeared more than 10 times\n",
    "    if folder_count[folder_name] > 10:\n",
    "        # print(f\"Skipping {folder_name}, as it has been processed more than 10 times.\")\n",
    "        continue\n",
    "\n",
    "    # Check if the folder exists\n",
    "    if not os.path.exists(folder_path):\n",
    "        # Create the folder if it does not exist\n",
    "        os.makedirs(folder_path)\n",
    "\n",
    "\n",
    "    cell_id = row['cell_id']\n",
    "    print(folder_path, cell_id)\n",
    "    utils_train.plot_by_idx(cell_id, temp, to_show, titels, save_path=rf'{folder_path}\\{cell_id}.png')\n"
   ],
   "metadata": {
    "collapsed": false,
    "pycharm": {
     "name": "#%%\n"
    }
   }
  },
  {
   "cell_type": "code",
   "execution_count": 15,
   "outputs": [],
   "source": [
    "import numpy as np\n",
    "import matplotlib.pyplot as plt\n",
    "import seaborn as sns\n",
    "import pandas as pd\n",
    "from sklearn.ensemble import RandomForestClassifier\n",
    "\n",
    "# Assuming you have these lists already\n",
    "model_zoo = [A647_random_forest_model, A488_random_forest_model, A550_random_forest_model]\n",
    "A647_feature_names = ['hyb_2_A647_fov1_mean', 'hyb_2_A647_fov1_median', 'hyb_2_A647_fov1_stdv', 'hyb_2_A647_fov1_total', 'hyb_3_A647_fov1_mean', 'hyb_3_A647_fov1_median', 'hyb_3_A647_fov1_stdv', 'hyb_3_A647_fov1_total', 'hyb_4_A647_fov1_mean', 'hyb_4_A647_fov1_median', 'hyb_4_A647_fov1_stdv', 'hyb_4_A647_fov1_total', 'hyb_5_A647_fov1_mean', 'hyb_5_A647_fov1_median', 'hyb_5_A647_fov1_stdv', 'hyb_5_A647_fov1_total', 'hyb_6_A647_fov1_mean', 'hyb_6_A647_fov1_median', 'hyb_6_A647_fov1_stdv', 'hyb_6_A647_fov1_total', 'R223', 'R226', 'R229', 'R235', 'R238', 'R223.1', 'R226.1', 'R229.1', 'R235.1', 'R238.1']\n",
    "A488_feature_names = ['hyb_2_A488_fov1_mean', 'hyb_2_A488_fov1_median', 'hyb_2_A488_fov1_stdv', 'hyb_2_A488_fov1_total', 'hyb_3_A488_fov1_mean', 'hyb_3_A488_fov1_median', 'hyb_3_A488_fov1_stdv', 'hyb_3_A488_fov1_total', 'hyb_4_A488_fov1_mean', 'hyb_4_A488_fov1_median', 'hyb_4_A488_fov1_stdv', 'hyb_4_A488_fov1_total', 'hyb_5_A488_fov1_mean', 'hyb_5_A488_fov1_median', 'hyb_5_A488_fov1_stdv', 'hyb_5_A488_fov1_total', 'hyb_6_A488_fov1_mean', 'hyb_6_A488_fov1_median', 'hyb_6_A488_fov1_stdv', 'hyb_6_A488_fov1_total', 'R224', 'R227', 'R230', 'R236', 'R239', 'R224.1', 'R227.1', 'R230.1', 'R236.1', 'R239.1']\n",
    "A550_feature_names = ['hyb_2_A550_fov1_mean', 'hyb_2_A550_fov1_median', 'hyb_2_A550_fov1_stdv', 'hyb_2_A550_fov1_total', 'hyb_3_A550_fov1_mean', 'hyb_3_A550_fov1_median', 'hyb_3_A550_fov1_stdv', 'hyb_3_A550_fov1_total', 'hyb_4_A550_fov1_mean', 'hyb_4_A550_fov1_median', 'hyb_4_A550_fov1_stdv', 'hyb_4_A550_fov1_total', 'hyb_5_A550_fov1_mean', 'hyb_5_A550_fov1_median', 'hyb_5_A550_fov1_stdv', 'hyb_5_A550_fov1_total', 'hyb_6_A550_fov1_mean', 'hyb_6_A550_fov1_median', 'hyb_6_A550_fov1_stdv', 'hyb_6_A550_fov1_total', 'R225', 'R228', 'R231', 'R237', 'R240', 'R225.1', 'R228.1', 'R231.1', 'R237.1', 'R240.1']\n",
    "\n",
    "feature_names_list = [A647_feature_names, A488_feature_names, A550_feature_names]\n",
    "model_labels = ['A647', 'A488', 'A550']\n",
    "\n",
    "# Prepare lists to collect data\n",
    "all_importances = []\n",
    "all_suffixes = []\n",
    "all_model_labels = []\n",
    "\n",
    "# Loop through each model and its corresponding feature names\n",
    "for model, feature_names, model_label in zip(model_zoo, feature_names_list, model_labels):\n",
    "    importances = model.feature_importances_\n",
    "\n",
    "    # Modify the feature names based on your conditions\n",
    "    modified_feature_names = []\n",
    "    for name in feature_names:\n",
    "        if '_' not in name:\n",
    "            if '.1' in name:\n",
    "                modified_feature_names.append(name[:-2] + '_signalOverBackground')\n",
    "            else:\n",
    "                modified_feature_names.append(name + '_FCSignalBackground')\n",
    "        else:\n",
    "            modified_feature_names.append(name)\n",
    "\n",
    "    # Extract suffixes from modified feature names\n",
    "    for name, importance in zip(modified_feature_names, importances):\n",
    "        suffix = name.split('_')[-1]\n",
    "        all_importances.append(importance)\n",
    "        all_suffixes.append(suffix)\n",
    "        all_model_labels.append(model_label)\n",
    "\n",
    "# Create a DataFrame for easier plotting with seaborn\n",
    "df = pd.DataFrame({\n",
    "    'Feature Importance': all_importances,\n",
    "    'Feature Suffix': all_suffixes,\n",
    "    'Model': all_model_labels\n",
    "})\n",
    "\n",
    "# Calculate mean importance for each feature suffix and sort by it\n",
    "mean_importances = df.groupby('Feature Suffix')['Feature Importance'].mean().sort_values(ascending=False)\n",
    "sorted_suffixes = mean_importances.index\n",
    "\n",
    "# Reorder the DataFrame based on sorted suffixes\n",
    "df['Feature Suffix'] = pd.Categorical(df['Feature Suffix'], categories=sorted_suffixes, ordered=True)\n",
    "df = df.sort_values('Feature Suffix')\n",
    "\n",
    "# Set the style and context for the plot\n",
    "plt.figure(figsize=(10, 8))\n",
    "sns.set_context(\"notebook\", font_scale=1.3)\n",
    "\n",
    "# Plot the boxplot with stripplot using seaborn\n",
    "sns.boxplot(y='Feature Importance', x='Feature Suffix', data=df, palette=\"Set3\", showfliers=False, medianprops={'color':'none'})\n",
    "sns.stripplot(y='Feature Importance', x='Feature Suffix', data=df, hue='Model', palette='Set1', alpha=0.7, jitter=True, marker='o', edgecolor='k', linewidth=0.5)\n",
    "plt.title('Feature Importances')\n",
    "plt.xlabel('Feature')  # Set the new x-axis title\n",
    "plt.xticks(rotation=45)  # Rotate x-tick labels by 45 degrees\n",
    "plt.tight_layout()\n",
    "plt.legend(title='Model', bbox_to_anchor=(1.05, 1), loc='upper left')\n",
    "\n",
    "# Save the plot with high quality\n",
    "plt.savefig('feature_importances_plot.png', dpi=300, bbox_inches='tight')\n",
    "plt.show()\n"
   ],
   "metadata": {
    "collapsed": false,
    "pycharm": {
     "name": "#%%\n"
    }
   }
  },
  {
   "cell_type": "code",
   "execution_count": 45,
   "outputs": [
    {
     "data": {
      "text/plain": "array([0.04493417, 0.02476122, 0.00853394, 0.03732757, 0.03975349,\n       0.03604178, 0.00632918, 0.02564985, 0.0138371 , 0.0313832 ,\n       0.00245733, 0.01387029, 0.04767178, 0.06520266, 0.01180946,\n       0.0582471 , 0.06513366, 0.05699723, 0.00298469, 0.02607223,\n       0.01621653, 0.03857445, 0.02716443, 0.07149371, 0.05324483,\n       0.03432755, 0.07401401, 0.02378694, 0.03540406, 0.00677559])"
     },
     "execution_count": 45,
     "metadata": {},
     "output_type": "execute_result"
    }
   ],
   "source": [
    "model.feature_importances_"
   ],
   "metadata": {
    "collapsed": false,
    "pycharm": {
     "name": "#%%\n"
    }
   }
  },
  {
   "cell_type": "code",
   "execution_count": null,
   "outputs": [],
   "source": [],
   "metadata": {
    "collapsed": false,
    "pycharm": {
     "name": "#%%\n"
    }
   }
  }
 ],
 "metadata": {
  "kernelspec": {
   "display_name": "Python 3",
   "language": "python",
   "name": "python3"
  },
  "language_info": {
   "codemirror_mode": {
    "name": "ipython",
    "version": 2
   },
   "file_extension": ".py",
   "mimetype": "text/x-python",
   "name": "python",
   "nbconvert_exporter": "python",
   "pygments_lexer": "ipython2",
   "version": "2.7.6"
  }
 },
 "nbformat": 4,
 "nbformat_minor": 0
}