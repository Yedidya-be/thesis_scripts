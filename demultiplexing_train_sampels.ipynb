{
 "cells": [
  {
   "cell_type": "code",
   "execution_count": 1,
   "metadata": {
    "collapsed": false,
    "pycharm": {
     "name": "#%%\n"
    }
   },
   "outputs": [],
   "source": [
    "from open_image import Img\n",
    "import train\n",
    "import utils_train\n",
    "\n",
    "%reload_ext autoreload\n",
    "%autoreload 2\n",
    "\n",
    "import seaborn as sns\n",
    "import numpy as np\n",
    "import matplotlib.pyplot as plt\n",
    "import pandas as pd\n",
    "import os\n",
    "import warnings\n",
    "warnings.filterwarnings('ignore')\n",
    "\n",
    "\n"
   ]
  },
  {
   "cell_type": "markdown",
   "metadata": {
    "collapsed": false,
    "pycharm": {
     "name": "#%% md\n"
    }
   },
   "source": [
    "## Set paths"
   ]
  },
  {
   "cell_type": "code",
   "execution_count": 2,
   "metadata": {
    "collapsed": false,
    "pycharm": {
     "name": "#%%\n"
    }
   },
   "outputs": [],
   "source": [
    "fov = 1\n",
    "hyb_list=[2,3,4]\n",
    "\n",
    "selection_path = r'X:\\sandbox\\for_yed\\new_exp\\sample_selections.csv'\n",
    "whole_cell_data_path = r'X:\\danielda\\analysis\\zp_auto_080524_late_exp_100x\\whole_cell_data'\n",
    "demult_path = rf'X:\\danielda\\analysis\\zp_auto_080524_late_exp_100x\\demultiplexing\\samples_fov_{fov}_demult.txt'\n",
    "automation_summary_path = r'C:\\Users\\yedidyab\\Downloads\\automation_summary.xlsx'"
   ]
  },
  {
   "cell_type": "code",
   "execution_count": 3,
   "metadata": {
    "collapsed": false,
    "pycharm": {
     "name": "#%%\n"
    }
   },
   "outputs": [],
   "source": [
    "probs_dict = {'OD_0.15':['R223', 'R224'],\n",
    "              'OD_0.85':['R223', 'R225'],\n",
    "              'OD_1.1':['R226', 'R228'],\n",
    "              'OD_1.1_B':['R226', 'R230'],\n",
    "              'OD_2.8':['R229', 'R224'],\n",
    "              'OD_3.8':['R229', 'R225']}\n"
   ]
  },
  {
   "cell_type": "markdown",
   "metadata": {
    "collapsed": false,
    "pycharm": {
     "name": "#%% md\n"
    }
   },
   "source": [
    "# Train Genes\n",
    "### load image"
   ]
  },
  {
   "cell_type": "code",
   "execution_count": 4,
   "metadata": {
    "collapsed": false,
    "pycharm": {
     "name": "#%%\n"
    }
   },
   "outputs": [],
   "source": [
    "hybs = {1: 'ref', 2: 'bc1', 3: 'bc1', 4: 'bc1'}\n",
    "temp = Img(path = r'X:\\danielda\\analysis\\zp_auto_080524_late_exp_100x', fov = fov, automation_summary_path = automation_summary_path, hybs = hybs)\n",
    "\n",
    "to_show = [temp.ref_A647_1,\n",
    "           temp.ref_A488_1,\n",
    "           temp.ref_A550_1,\n",
    "           temp.bc1_A647_2,\n",
    "           temp.bc1_A488_2,\n",
    "           temp.bc1_A550_2,\n",
    "           temp.bc1_A647_3,\n",
    "           temp.bc1_A488_3,\n",
    "           temp.bc1_A550_3,\n",
    "           temp.bc1_A647_4,\n",
    "           temp.bc1_A488_4,\n",
    "           temp.bc1_A550_4,\n",
    "           ]\n",
    "\n",
    "\n",
    "titels  = ['refA647', 'refA488', 'refA550', 'bc1_hyb2_A647_R223',\n",
    "           'bc1_hyb2_A488_R224', 'bc1_hyb2_A550_R225', 'bc1_hyb3_A647_R226',\n",
    "           'bc1_hyb3_A488_R227', 'bc1_hyb3_A550_R228', 'bc1_hyb4_A647_R229',\n",
    "           'bc1_hyb4_A488_R230', 'bc1_hyb4_A550_R231']\n"
   ]
  },
  {
   "cell_type": "markdown",
   "metadata": {
    "collapsed": false,
    "pycharm": {
     "name": "#%% md\n"
    }
   },
   "source": [
    "# Label cells"
   ]
  },
  {
   "cell_type": "code",
   "execution_count": 5,
   "metadata": {
    "collapsed": false,
    "pycharm": {
     "name": "#%%\n"
    }
   },
   "outputs": [
    {
     "name": "stderr",
     "output_type": "stream",
     "text": [
      "  0%|          | 0/250 [00:00<?, ?it/s]\n"
     ]
    },
    {
     "ename": "TypeError",
     "evalue": "Image data of dtype <U616656 cannot be converted to float",
     "output_type": "error",
     "traceback": [
      "\u001B[1;31m---------------------------------------------------------------------------\u001B[0m",
      "\u001B[1;31mTypeError\u001B[0m                                 Traceback (most recent call last)",
      "Cell \u001B[1;32mIn[5], line 1\u001B[0m\n\u001B[1;32m----> 1\u001B[0m \u001B[43mtrain\u001B[49m\u001B[38;5;241;43m.\u001B[39;49m\u001B[43mrun\u001B[49m\u001B[43m(\u001B[49m\u001B[43mtemp\u001B[49m\u001B[43m,\u001B[49m\u001B[43m \u001B[49m\u001B[43mtitels\u001B[49m\u001B[43m,\u001B[49m\u001B[43m \u001B[49m\u001B[43mautomation_summary_path\u001B[49m\u001B[43m,\u001B[49m\u001B[43m \u001B[49m\u001B[43mto_show\u001B[49m\u001B[43m,\u001B[49m\u001B[43m \u001B[49m\u001B[43msave_path\u001B[49m\u001B[38;5;241;43m=\u001B[39;49m\u001B[43mselection_path\u001B[49m\u001B[43m,\u001B[49m\u001B[43m \u001B[49m\u001B[43msession_length\u001B[49m\u001B[43m \u001B[49m\u001B[38;5;241;43m=\u001B[39;49m\u001B[43m \u001B[49m\u001B[38;5;241;43m250\u001B[39;49m\u001B[43m,\u001B[49m\u001B[43m \u001B[49m\u001B[43mspace\u001B[49m\u001B[43m \u001B[49m\u001B[38;5;241;43m=\u001B[39;49m\u001B[43m \u001B[49m\u001B[38;5;241;43m5\u001B[39;49m\u001B[43m)\u001B[49m\n",
      "File \u001B[1;32m~\\Downloads\\thesis_scripts\\thesis_scripts\\train.py:53\u001B[0m, in \u001B[0;36mrun\u001B[1;34m(temp, titels, automation_summary_path, to_show, save_path, session_length, space, idx_list)\u001B[0m\n\u001B[0;32m     51\u001B[0m     plots\u001B[38;5;241m.\u001B[39mappend(temp\u001B[38;5;241m.\u001B[39mplot_random_index(idx, j, space\u001B[38;5;241m=\u001B[39mspace))\n\u001B[0;32m     52\u001B[0m outline \u001B[38;5;241m=\u001B[39m extract_outlines(temp\u001B[38;5;241m.\u001B[39mplot_random_index(idx, temp\u001B[38;5;241m.\u001B[39mmasks, space\u001B[38;5;241m=\u001B[39mspace))\n\u001B[1;32m---> 53\u001B[0m \u001B[43mclick2\u001B[49m\u001B[38;5;241;43m.\u001B[39;49m\u001B[43mselection\u001B[49m\u001B[43m(\u001B[49m\u001B[43mplots\u001B[49m\u001B[43m,\u001B[49m\u001B[43m \u001B[49m\u001B[43mtitels\u001B[49m\u001B[43m,\u001B[49m\u001B[43m \u001B[49m\u001B[43msave_path\u001B[49m\u001B[43m,\u001B[49m\u001B[43m \u001B[49m\u001B[43moutline\u001B[49m\u001B[43m,\u001B[49m\u001B[43m \u001B[49m\u001B[43midx\u001B[49m\u001B[43m)\u001B[49m\n",
      "File \u001B[1;32mW:\\train_probs\\dsProject\\click2.py:143\u001B[0m, in \u001B[0;36mselection\u001B[1;34m(arrays, titles, outline, index, save_name)\u001B[0m\n\u001B[0;32m    142\u001B[0m \u001B[38;5;28;01mdef\u001B[39;00m \u001B[38;5;21mselection\u001B[39m(arrays, titles, outline \u001B[38;5;241m=\u001B[39m \u001B[38;5;28;01mNone\u001B[39;00m, index \u001B[38;5;241m=\u001B[39m \u001B[38;5;28;01mNone\u001B[39;00m, save_name \u001B[38;5;241m=\u001B[39m \u001B[38;5;28;01mNone\u001B[39;00m):\n\u001B[1;32m--> 143\u001B[0m     selector \u001B[38;5;241m=\u001B[39m \u001B[43mInteractiveImageSelector\u001B[49m\u001B[43m(\u001B[49m\u001B[43marrays\u001B[49m\u001B[43m,\u001B[49m\u001B[43m \u001B[49m\u001B[43mtitles\u001B[49m\u001B[43m,\u001B[49m\u001B[43m \u001B[49m\u001B[43moutline\u001B[49m\u001B[43m,\u001B[49m\u001B[43m \u001B[49m\u001B[43mindex\u001B[49m\u001B[43m)\u001B[49m\n\u001B[0;32m    144\u001B[0m     mng \u001B[38;5;241m=\u001B[39m plt\u001B[38;5;241m.\u001B[39mget_current_fig_manager()\n\u001B[0;32m    145\u001B[0m     \u001B[38;5;66;03m#mng.window.state('withdrawn')\u001B[39;00m\n",
      "File \u001B[1;32mW:\\train_probs\\dsProject\\click2.py:92\u001B[0m, in \u001B[0;36mInteractiveImageSelector.__init__\u001B[1;34m(self, arrays, titles, outline, index)\u001B[0m\n\u001B[0;32m     89\u001B[0m \u001B[38;5;66;03m# Overlay the outline if it's provided\u001B[39;00m\n\u001B[0;32m     90\u001B[0m \u001B[38;5;28;01mif\u001B[39;00m \u001B[38;5;28mself\u001B[39m\u001B[38;5;241m.\u001B[39moutline \u001B[38;5;129;01mis\u001B[39;00m \u001B[38;5;129;01mnot\u001B[39;00m \u001B[38;5;28;01mNone\u001B[39;00m:\n\u001B[0;32m     91\u001B[0m     \u001B[38;5;66;03m# Ensure the outline is added on top of the image. Adjust alpha for transparency as needed.\u001B[39;00m\n\u001B[1;32m---> 92\u001B[0m     \u001B[43max\u001B[49m\u001B[38;5;241;43m.\u001B[39;49m\u001B[43mimshow\u001B[49m\u001B[43m(\u001B[49m\u001B[38;5;28;43mself\u001B[39;49m\u001B[38;5;241;43m.\u001B[39;49m\u001B[43moutline\u001B[49m\u001B[38;5;241;43m*\u001B[39;49m\u001B[38;5;28;43mself\u001B[39;49m\u001B[38;5;241;43m.\u001B[39;49m\u001B[43mvmax\u001B[49m\u001B[43m,\u001B[49m\u001B[43m \u001B[49m\u001B[43mcmap\u001B[49m\u001B[38;5;241;43m=\u001B[39;49m\u001B[38;5;124;43m'\u001B[39;49m\u001B[38;5;124;43mGreys\u001B[39;49m\u001B[38;5;124;43m'\u001B[39;49m\u001B[43m,\u001B[49m\u001B[43m \u001B[49m\u001B[43malpha\u001B[49m\u001B[38;5;241;43m=\u001B[39;49m\u001B[38;5;241;43m0.3\u001B[39;49m\u001B[43m,\u001B[49m\u001B[43m \u001B[49m\u001B[43mvmin\u001B[49m\u001B[38;5;241;43m=\u001B[39;49m\u001B[38;5;241;43m0\u001B[39;49m\u001B[43m,\u001B[49m\u001B[43m \u001B[49m\u001B[43mvmax\u001B[49m\u001B[38;5;241;43m=\u001B[39;49m\u001B[38;5;28;43mself\u001B[39;49m\u001B[38;5;241;43m.\u001B[39;49m\u001B[43mvmax\u001B[49m\u001B[43m)\u001B[49m\n\u001B[0;32m     94\u001B[0m \u001B[38;5;66;03m# Add a patch as a visible border indicator\u001B[39;00m\n\u001B[0;32m     95\u001B[0m rect \u001B[38;5;241m=\u001B[39m patches\u001B[38;5;241m.\u001B[39mRectangle((\u001B[38;5;241m0\u001B[39m, \u001B[38;5;241m0\u001B[39m), \u001B[38;5;241m1\u001B[39m, \u001B[38;5;241m1\u001B[39m, transform\u001B[38;5;241m=\u001B[39max\u001B[38;5;241m.\u001B[39mtransAxes, linewidth\u001B[38;5;241m=\u001B[39m\u001B[38;5;241m4\u001B[39m, edgecolor\u001B[38;5;241m=\u001B[39m\u001B[38;5;124m'\u001B[39m\u001B[38;5;124mnone\u001B[39m\u001B[38;5;124m'\u001B[39m, facecolor\u001B[38;5;241m=\u001B[39m\u001B[38;5;124m'\u001B[39m\u001B[38;5;124mnone\u001B[39m\u001B[38;5;124m'\u001B[39m)\n",
      "File \u001B[1;32m~\\Anaconda3\\envs\\piplnew\\lib\\site-packages\\matplotlib\\_api\\deprecation.py:454\u001B[0m, in \u001B[0;36mmake_keyword_only.<locals>.wrapper\u001B[1;34m(*args, **kwargs)\u001B[0m\n\u001B[0;32m    448\u001B[0m \u001B[38;5;28;01mif\u001B[39;00m \u001B[38;5;28mlen\u001B[39m(args) \u001B[38;5;241m>\u001B[39m name_idx:\n\u001B[0;32m    449\u001B[0m     warn_deprecated(\n\u001B[0;32m    450\u001B[0m         since, message\u001B[38;5;241m=\u001B[39m\u001B[38;5;124m\"\u001B[39m\u001B[38;5;124mPassing the \u001B[39m\u001B[38;5;132;01m%(name)s\u001B[39;00m\u001B[38;5;124m \u001B[39m\u001B[38;5;132;01m%(obj_type)s\u001B[39;00m\u001B[38;5;124m \u001B[39m\u001B[38;5;124m\"\u001B[39m\n\u001B[0;32m    451\u001B[0m         \u001B[38;5;124m\"\u001B[39m\u001B[38;5;124mpositionally is deprecated since Matplotlib \u001B[39m\u001B[38;5;132;01m%(since)s\u001B[39;00m\u001B[38;5;124m; the \u001B[39m\u001B[38;5;124m\"\u001B[39m\n\u001B[0;32m    452\u001B[0m         \u001B[38;5;124m\"\u001B[39m\u001B[38;5;124mparameter will become keyword-only \u001B[39m\u001B[38;5;132;01m%(removal)s\u001B[39;00m\u001B[38;5;124m.\u001B[39m\u001B[38;5;124m\"\u001B[39m,\n\u001B[0;32m    453\u001B[0m         name\u001B[38;5;241m=\u001B[39mname, obj_type\u001B[38;5;241m=\u001B[39m\u001B[38;5;124mf\u001B[39m\u001B[38;5;124m\"\u001B[39m\u001B[38;5;124mparameter of \u001B[39m\u001B[38;5;132;01m{\u001B[39;00mfunc\u001B[38;5;241m.\u001B[39m\u001B[38;5;18m__name__\u001B[39m\u001B[38;5;132;01m}\u001B[39;00m\u001B[38;5;124m()\u001B[39m\u001B[38;5;124m\"\u001B[39m)\n\u001B[1;32m--> 454\u001B[0m \u001B[38;5;28;01mreturn\u001B[39;00m \u001B[43mfunc\u001B[49m\u001B[43m(\u001B[49m\u001B[38;5;241;43m*\u001B[39;49m\u001B[43margs\u001B[49m\u001B[43m,\u001B[49m\u001B[43m \u001B[49m\u001B[38;5;241;43m*\u001B[39;49m\u001B[38;5;241;43m*\u001B[39;49m\u001B[43mkwargs\u001B[49m\u001B[43m)\u001B[49m\n",
      "File \u001B[1;32m~\\Anaconda3\\envs\\piplnew\\lib\\site-packages\\matplotlib\\__init__.py:1423\u001B[0m, in \u001B[0;36m_preprocess_data.<locals>.inner\u001B[1;34m(ax, data, *args, **kwargs)\u001B[0m\n\u001B[0;32m   1420\u001B[0m \u001B[38;5;129m@functools\u001B[39m\u001B[38;5;241m.\u001B[39mwraps(func)\n\u001B[0;32m   1421\u001B[0m \u001B[38;5;28;01mdef\u001B[39;00m \u001B[38;5;21minner\u001B[39m(ax, \u001B[38;5;241m*\u001B[39margs, data\u001B[38;5;241m=\u001B[39m\u001B[38;5;28;01mNone\u001B[39;00m, \u001B[38;5;241m*\u001B[39m\u001B[38;5;241m*\u001B[39mkwargs):\n\u001B[0;32m   1422\u001B[0m     \u001B[38;5;28;01mif\u001B[39;00m data \u001B[38;5;129;01mis\u001B[39;00m \u001B[38;5;28;01mNone\u001B[39;00m:\n\u001B[1;32m-> 1423\u001B[0m         \u001B[38;5;28;01mreturn\u001B[39;00m \u001B[43mfunc\u001B[49m\u001B[43m(\u001B[49m\u001B[43max\u001B[49m\u001B[43m,\u001B[49m\u001B[43m \u001B[49m\u001B[38;5;241;43m*\u001B[39;49m\u001B[38;5;28;43mmap\u001B[39;49m\u001B[43m(\u001B[49m\u001B[43msanitize_sequence\u001B[49m\u001B[43m,\u001B[49m\u001B[43m \u001B[49m\u001B[43margs\u001B[49m\u001B[43m)\u001B[49m\u001B[43m,\u001B[49m\u001B[43m \u001B[49m\u001B[38;5;241;43m*\u001B[39;49m\u001B[38;5;241;43m*\u001B[39;49m\u001B[43mkwargs\u001B[49m\u001B[43m)\u001B[49m\n\u001B[0;32m   1425\u001B[0m     bound \u001B[38;5;241m=\u001B[39m new_sig\u001B[38;5;241m.\u001B[39mbind(ax, \u001B[38;5;241m*\u001B[39margs, \u001B[38;5;241m*\u001B[39m\u001B[38;5;241m*\u001B[39mkwargs)\n\u001B[0;32m   1426\u001B[0m     auto_label \u001B[38;5;241m=\u001B[39m (bound\u001B[38;5;241m.\u001B[39marguments\u001B[38;5;241m.\u001B[39mget(label_namer)\n\u001B[0;32m   1427\u001B[0m                   \u001B[38;5;129;01mor\u001B[39;00m bound\u001B[38;5;241m.\u001B[39mkwargs\u001B[38;5;241m.\u001B[39mget(label_namer))\n",
      "File \u001B[1;32m~\\Anaconda3\\envs\\piplnew\\lib\\site-packages\\matplotlib\\axes\\_axes.py:5604\u001B[0m, in \u001B[0;36mAxes.imshow\u001B[1;34m(self, X, cmap, norm, aspect, interpolation, alpha, vmin, vmax, origin, extent, interpolation_stage, filternorm, filterrad, resample, url, **kwargs)\u001B[0m\n\u001B[0;32m   5596\u001B[0m \u001B[38;5;28mself\u001B[39m\u001B[38;5;241m.\u001B[39mset_aspect(aspect)\n\u001B[0;32m   5597\u001B[0m im \u001B[38;5;241m=\u001B[39m mimage\u001B[38;5;241m.\u001B[39mAxesImage(\u001B[38;5;28mself\u001B[39m, cmap\u001B[38;5;241m=\u001B[39mcmap, norm\u001B[38;5;241m=\u001B[39mnorm,\n\u001B[0;32m   5598\u001B[0m                       interpolation\u001B[38;5;241m=\u001B[39minterpolation, origin\u001B[38;5;241m=\u001B[39morigin,\n\u001B[0;32m   5599\u001B[0m                       extent\u001B[38;5;241m=\u001B[39mextent, filternorm\u001B[38;5;241m=\u001B[39mfilternorm,\n\u001B[0;32m   5600\u001B[0m                       filterrad\u001B[38;5;241m=\u001B[39mfilterrad, resample\u001B[38;5;241m=\u001B[39mresample,\n\u001B[0;32m   5601\u001B[0m                       interpolation_stage\u001B[38;5;241m=\u001B[39minterpolation_stage,\n\u001B[0;32m   5602\u001B[0m                       \u001B[38;5;241m*\u001B[39m\u001B[38;5;241m*\u001B[39mkwargs)\n\u001B[1;32m-> 5604\u001B[0m \u001B[43mim\u001B[49m\u001B[38;5;241;43m.\u001B[39;49m\u001B[43mset_data\u001B[49m\u001B[43m(\u001B[49m\u001B[43mX\u001B[49m\u001B[43m)\u001B[49m\n\u001B[0;32m   5605\u001B[0m im\u001B[38;5;241m.\u001B[39mset_alpha(alpha)\n\u001B[0;32m   5606\u001B[0m \u001B[38;5;28;01mif\u001B[39;00m im\u001B[38;5;241m.\u001B[39mget_clip_path() \u001B[38;5;129;01mis\u001B[39;00m \u001B[38;5;28;01mNone\u001B[39;00m:\n\u001B[0;32m   5607\u001B[0m     \u001B[38;5;66;03m# image does not already have clipping set, clip to axes patch\u001B[39;00m\n",
      "File \u001B[1;32m~\\Anaconda3\\envs\\piplnew\\lib\\site-packages\\matplotlib\\image.py:701\u001B[0m, in \u001B[0;36m_ImageBase.set_data\u001B[1;34m(self, A)\u001B[0m\n\u001B[0;32m    697\u001B[0m \u001B[38;5;28mself\u001B[39m\u001B[38;5;241m.\u001B[39m_A \u001B[38;5;241m=\u001B[39m cbook\u001B[38;5;241m.\u001B[39msafe_masked_invalid(A, copy\u001B[38;5;241m=\u001B[39m\u001B[38;5;28;01mTrue\u001B[39;00m)\n\u001B[0;32m    699\u001B[0m \u001B[38;5;28;01mif\u001B[39;00m (\u001B[38;5;28mself\u001B[39m\u001B[38;5;241m.\u001B[39m_A\u001B[38;5;241m.\u001B[39mdtype \u001B[38;5;241m!=\u001B[39m np\u001B[38;5;241m.\u001B[39muint8 \u001B[38;5;129;01mand\u001B[39;00m\n\u001B[0;32m    700\u001B[0m         \u001B[38;5;129;01mnot\u001B[39;00m np\u001B[38;5;241m.\u001B[39mcan_cast(\u001B[38;5;28mself\u001B[39m\u001B[38;5;241m.\u001B[39m_A\u001B[38;5;241m.\u001B[39mdtype, \u001B[38;5;28mfloat\u001B[39m, \u001B[38;5;124m\"\u001B[39m\u001B[38;5;124msame_kind\u001B[39m\u001B[38;5;124m\"\u001B[39m)):\n\u001B[1;32m--> 701\u001B[0m     \u001B[38;5;28;01mraise\u001B[39;00m \u001B[38;5;167;01mTypeError\u001B[39;00m(\u001B[38;5;124m\"\u001B[39m\u001B[38;5;124mImage data of dtype \u001B[39m\u001B[38;5;132;01m{}\u001B[39;00m\u001B[38;5;124m cannot be converted to \u001B[39m\u001B[38;5;124m\"\u001B[39m\n\u001B[0;32m    702\u001B[0m                     \u001B[38;5;124m\"\u001B[39m\u001B[38;5;124mfloat\u001B[39m\u001B[38;5;124m\"\u001B[39m\u001B[38;5;241m.\u001B[39mformat(\u001B[38;5;28mself\u001B[39m\u001B[38;5;241m.\u001B[39m_A\u001B[38;5;241m.\u001B[39mdtype))\n\u001B[0;32m    704\u001B[0m \u001B[38;5;28;01mif\u001B[39;00m \u001B[38;5;28mself\u001B[39m\u001B[38;5;241m.\u001B[39m_A\u001B[38;5;241m.\u001B[39mndim \u001B[38;5;241m==\u001B[39m \u001B[38;5;241m3\u001B[39m \u001B[38;5;129;01mand\u001B[39;00m \u001B[38;5;28mself\u001B[39m\u001B[38;5;241m.\u001B[39m_A\u001B[38;5;241m.\u001B[39mshape[\u001B[38;5;241m-\u001B[39m\u001B[38;5;241m1\u001B[39m] \u001B[38;5;241m==\u001B[39m \u001B[38;5;241m1\u001B[39m:\n\u001B[0;32m    705\u001B[0m     \u001B[38;5;66;03m# If just one dimension assume scalar and apply colormap\u001B[39;00m\n\u001B[0;32m    706\u001B[0m     \u001B[38;5;28mself\u001B[39m\u001B[38;5;241m.\u001B[39m_A \u001B[38;5;241m=\u001B[39m \u001B[38;5;28mself\u001B[39m\u001B[38;5;241m.\u001B[39m_A[:, :, \u001B[38;5;241m0\u001B[39m]\n",
      "\u001B[1;31mTypeError\u001B[0m: Image data of dtype <U616656 cannot be converted to float"
     ]
    }
   ],
   "source": [
    "train.run(temp, titels, automation_summary_path, to_show, save_path=selection_path, session_length = 250, space = 5)"
   ]
  },
  {
   "cell_type": "markdown",
   "metadata": {
    "collapsed": false,
    "pycharm": {
     "name": "#%% md\n"
    }
   },
   "source": [
    "# Build training df"
   ]
  },
  {
   "cell_type": "code",
   "execution_count": null,
   "metadata": {
    "collapsed": false,
    "pycharm": {
     "name": "#%%\n"
    }
   },
   "outputs": [],
   "source": [
    "whole_cell_data = utils_train.concat_files(fov_list=[fov], hyb_list=hyb_list, directory_path=whole_cell_data_path)\n",
    "whole_cell_data = whole_cell_data.reindex(sorted(whole_cell_data.columns), axis=1)\n",
    "selections = pd.read_csv(selection_path).drop(['refA647', 'refA488', 'refA550'], axis=1)\n",
    "selections = selections.reindex(sorted(selections.columns), axis=1)\n",
    "df1 = selections.merge(whole_cell_data, left_on='Index', right_on='cell_id')\n",
    "demult = pd.read_csv(demult_path, sep='\\t')\n",
    "df = df1.merge(demult, left_on='Index', right_on='cell_id').drop(['cell_id', 'sample_name'], axis=1)\n",
    "df"
   ]
  },
  {
   "cell_type": "markdown",
   "metadata": {
    "collapsed": false,
    "pycharm": {
     "name": "#%% md\n"
    }
   },
   "source": [
    "# Train new model"
   ]
  },
  {
   "cell_type": "code",
   "execution_count": null,
   "metadata": {
    "collapsed": false,
    "pycharm": {
     "name": "#%%\n"
    }
   },
   "outputs": [],
   "source": [
    "A647_random_forest_model, A647_pred_df = utils_train.create_model(df, automation_summary_path = automation_summary_path, channel = 'A647', hyb_list = hyb_list, test_size=0.5)\n",
    "A488_random_forest_model, A488_pred_df = utils_train.create_model(df, automation_summary_path = automation_summary_path, channel = 'A488', hyb_list = hyb_list, test_size=0.5)\n",
    "A550_random_forest_model, A550_pred_df = utils_train.create_model(df, automation_summary_path = automation_summary_path, channel = 'A550', hyb_list = hyb_list, test_size=0.5)\n",
    "model_zoo = [A647_random_forest_model, A488_random_forest_model, A550_random_forest_model]\n",
    "eval_dfs = [A647_pred_df, A488_pred_df, A550_pred_df]"
   ]
  },
  {
   "cell_type": "markdown",
   "metadata": {
    "collapsed": false,
    "pycharm": {
     "name": "#%% md\n"
    }
   },
   "source": [
    "# build evaluation df"
   ]
  },
  {
   "cell_type": "code",
   "execution_count": null,
   "metadata": {
    "collapsed": false,
    "pycharm": {
     "name": "#%%\n"
    }
   },
   "outputs": [],
   "source": [
    "# evaluate\n",
    "eval_df = pd.concat(eval_dfs, axis=1)\n",
    "eval_df = eval_df.loc[:,~eval_df.columns.duplicated()].copy()\n",
    "eval_df = eval_df.reindex(sorted(eval_df.columns), axis=1)\n",
    "pred_cols = [col for col in eval_df.columns if 'prob' in col]\n",
    "true_cols = [col for col in eval_df.columns if  'bc' in col and 'prob' not in col]\n",
    "relevant_cols = ['cell_id'] + true_cols + pred_cols\n",
    "\n",
    "eval_df = eval_df[relevant_cols]\n",
    "\n",
    "# Calculate the difference and add new columns\n",
    "delta_cols = []\n",
    "for col1, col2 in zip(pred_cols, true_cols):\n",
    "    new_col_name = f\"{col1.split('_')[-1]}_diff\"  # Name for the new column\n",
    "    delta_cols.append(new_col_name)\n",
    "    eval_df[new_col_name] = eval_df[col1] - eval_df[col2]\n",
    "\n",
    "eval_df"
   ]
  },
  {
   "cell_type": "markdown",
   "metadata": {
    "collapsed": false,
    "pycharm": {
     "name": "#%% md\n"
    }
   },
   "source": [
    "# Check problematic cells"
   ]
  },
  {
   "cell_type": "code",
   "execution_count": null,
   "metadata": {
    "collapsed": false,
    "pycharm": {
     "name": "#%%\n"
    }
   },
   "outputs": [],
   "source": [
    "data_for_heatmap, problematic_idx, problematic_cell_id = utils_train.plot_eval(eval_df, true_cols, pred_cols, delta_cols)"
   ]
  },
  {
   "cell_type": "code",
   "execution_count": null,
   "metadata": {
    "collapsed": false,
    "pycharm": {
     "name": "#%%\n"
    }
   },
   "outputs": [],
   "source": [
    "problematic = data_for_heatmap.iloc[problematic_idx]\n",
    "sns.heatmap(problematic, annot=True, cmap='viridis', cbar=False, linewidths=2, linecolor='black')\n",
    "plt.savefig('sampels_problematic.png')\n",
    "plt.show()"
   ]
  },
  {
   "cell_type": "code",
   "execution_count": null,
   "metadata": {
    "collapsed": false,
    "pycharm": {
     "name": "#%%\n"
    }
   },
   "outputs": [],
   "source": [
    "# Show problematic cells\n",
    "for i in problematic_cell_id:\n",
    "    utils_train.plot_by_idx(i, temp, to_show, titels)"
   ]
  },
  {
   "cell_type": "markdown",
   "metadata": {
    "collapsed": false,
    "pycharm": {
     "name": "#%% md\n"
    }
   },
   "source": [
    "# Predict for all the cells"
   ]
  },
  {
   "cell_type": "code",
   "execution_count": null,
   "metadata": {
    "collapsed": false,
    "pycharm": {
     "name": "#%%\n"
    }
   },
   "outputs": [],
   "source": [
    "predict_dfs = []\n",
    "channel_list = ['A647', 'A488', 'A550']\n",
    "for model, channel in zip(model_zoo, channel_list):\n",
    "    pred = utils_train.predict(model = model,\n",
    "                               automation_summary_path = automation_summary_path,\n",
    "                               cutoff=0.6,\n",
    "                               channel = channel,\n",
    "                               fov_list=[fov],\n",
    "                               hyb_list=hyb_list,\n",
    "                               directory_path=whole_cell_data_path,\n",
    "                               demult_path=demult_path)\n",
    "\n",
    "    predict_dfs.append(pred)\n",
    "\n",
    "predict_df = pd.concat(predict_dfs, axis=1)\n",
    "predict_df = predict_df.loc[:,~predict_df.columns.duplicated()].copy()\n",
    "predict_df = predict_df.reindex(sorted(predict_df.columns), axis=1)\n",
    "relevant_cols = ['cell_id'] + pred_cols\n",
    "\n",
    "predict_df = predict_df[predict_df['cell_id'].isin(np.unique(temp.masks))]\n",
    "\n",
    "predict_df[relevant_cols]\n"
   ]
  },
  {
   "cell_type": "code",
   "execution_count": null,
   "metadata": {
    "collapsed": false,
    "pycharm": {
     "name": "#%%\n"
    }
   },
   "outputs": [],
   "source": []
  },
  {
   "cell_type": "code",
   "execution_count": 22,
   "metadata": {
    "collapsed": false,
    "pycharm": {
     "name": "#%%\n"
    }
   },
   "outputs": [
    {
     "data": {
      "text/html": [
       "<div>\n",
       "<style scoped>\n",
       "    .dataframe tbody tr th:only-of-type {\n",
       "        vertical-align: middle;\n",
       "    }\n",
       "\n",
       "    .dataframe tbody tr th {\n",
       "        vertical-align: top;\n",
       "    }\n",
       "\n",
       "    .dataframe thead th {\n",
       "        text-align: right;\n",
       "    }\n",
       "</style>\n",
       "<table border=\"1\" class=\"dataframe\">\n",
       "  <thead>\n",
       "    <tr style=\"text-align: right;\">\n",
       "      <th></th>\n",
       "      <th>cell_id</th>\n",
       "      <th>R224</th>\n",
       "      <th>R225</th>\n",
       "      <th>R223</th>\n",
       "      <th>R227</th>\n",
       "      <th>R228</th>\n",
       "      <th>R226</th>\n",
       "      <th>R230</th>\n",
       "      <th>R231</th>\n",
       "      <th>R229</th>\n",
       "      <th>R233</th>\n",
       "      <th>R234</th>\n",
       "      <th>R232</th>\n",
       "      <th>total</th>\n",
       "      <th>predicted_sample</th>\n",
       "    </tr>\n",
       "  </thead>\n",
       "  <tbody>\n",
       "    <tr>\n",
       "      <th>0</th>\n",
       "      <td>1</td>\n",
       "      <td>0.0</td>\n",
       "      <td>0.0</td>\n",
       "      <td>0.40</td>\n",
       "      <td>0.0</td>\n",
       "      <td>0.0</td>\n",
       "      <td>0.40</td>\n",
       "      <td>0.31</td>\n",
       "      <td>0.0</td>\n",
       "      <td>0.0</td>\n",
       "      <td>0.0</td>\n",
       "      <td>0.49</td>\n",
       "      <td>0.0</td>\n",
       "      <td>0</td>\n",
       "      <td>no_signal</td>\n",
       "    </tr>\n",
       "    <tr>\n",
       "      <th>1</th>\n",
       "      <td>2</td>\n",
       "      <td>0.0</td>\n",
       "      <td>0.0</td>\n",
       "      <td>0.57</td>\n",
       "      <td>0.0</td>\n",
       "      <td>0.0</td>\n",
       "      <td>0.23</td>\n",
       "      <td>0.31</td>\n",
       "      <td>0.0</td>\n",
       "      <td>0.0</td>\n",
       "      <td>0.0</td>\n",
       "      <td>0.39</td>\n",
       "      <td>0.0</td>\n",
       "      <td>1</td>\n",
       "      <td>partial_signal</td>\n",
       "    </tr>\n",
       "    <tr>\n",
       "      <th>2</th>\n",
       "      <td>3</td>\n",
       "      <td>0.0</td>\n",
       "      <td>0.0</td>\n",
       "      <td>0.58</td>\n",
       "      <td>0.0</td>\n",
       "      <td>0.0</td>\n",
       "      <td>0.22</td>\n",
       "      <td>0.26</td>\n",
       "      <td>0.0</td>\n",
       "      <td>0.0</td>\n",
       "      <td>0.0</td>\n",
       "      <td>0.29</td>\n",
       "      <td>0.0</td>\n",
       "      <td>1</td>\n",
       "      <td>partial_signal</td>\n",
       "    </tr>\n",
       "    <tr>\n",
       "      <th>3</th>\n",
       "      <td>4</td>\n",
       "      <td>0.0</td>\n",
       "      <td>0.0</td>\n",
       "      <td>0.40</td>\n",
       "      <td>0.0</td>\n",
       "      <td>0.0</td>\n",
       "      <td>0.40</td>\n",
       "      <td>0.54</td>\n",
       "      <td>0.0</td>\n",
       "      <td>0.0</td>\n",
       "      <td>0.0</td>\n",
       "      <td>0.57</td>\n",
       "      <td>0.0</td>\n",
       "      <td>2</td>\n",
       "      <td>false_positive</td>\n",
       "    </tr>\n",
       "    <tr>\n",
       "      <th>4</th>\n",
       "      <td>5</td>\n",
       "      <td>0.0</td>\n",
       "      <td>0.0</td>\n",
       "      <td>0.14</td>\n",
       "      <td>0.0</td>\n",
       "      <td>0.0</td>\n",
       "      <td>0.66</td>\n",
       "      <td>0.58</td>\n",
       "      <td>0.0</td>\n",
       "      <td>0.0</td>\n",
       "      <td>0.0</td>\n",
       "      <td>0.18</td>\n",
       "      <td>0.0</td>\n",
       "      <td>2</td>\n",
       "      <td>OD_1.1_B</td>\n",
       "    </tr>\n",
       "    <tr>\n",
       "      <th>...</th>\n",
       "      <td>...</td>\n",
       "      <td>...</td>\n",
       "      <td>...</td>\n",
       "      <td>...</td>\n",
       "      <td>...</td>\n",
       "      <td>...</td>\n",
       "      <td>...</td>\n",
       "      <td>...</td>\n",
       "      <td>...</td>\n",
       "      <td>...</td>\n",
       "      <td>...</td>\n",
       "      <td>...</td>\n",
       "      <td>...</td>\n",
       "      <td>...</td>\n",
       "      <td>...</td>\n",
       "    </tr>\n",
       "    <tr>\n",
       "      <th>7958</th>\n",
       "      <td>7959</td>\n",
       "      <td>0.0</td>\n",
       "      <td>0.0</td>\n",
       "      <td>0.15</td>\n",
       "      <td>0.0</td>\n",
       "      <td>0.0</td>\n",
       "      <td>0.65</td>\n",
       "      <td>0.57</td>\n",
       "      <td>0.0</td>\n",
       "      <td>0.0</td>\n",
       "      <td>0.0</td>\n",
       "      <td>0.18</td>\n",
       "      <td>0.0</td>\n",
       "      <td>2</td>\n",
       "      <td>OD_1.1_B</td>\n",
       "    </tr>\n",
       "    <tr>\n",
       "      <th>7959</th>\n",
       "      <td>7960</td>\n",
       "      <td>0.0</td>\n",
       "      <td>0.0</td>\n",
       "      <td>0.55</td>\n",
       "      <td>0.0</td>\n",
       "      <td>0.0</td>\n",
       "      <td>0.25</td>\n",
       "      <td>0.38</td>\n",
       "      <td>0.0</td>\n",
       "      <td>0.0</td>\n",
       "      <td>0.0</td>\n",
       "      <td>0.53</td>\n",
       "      <td>0.0</td>\n",
       "      <td>2</td>\n",
       "      <td>false_positive</td>\n",
       "    </tr>\n",
       "    <tr>\n",
       "      <th>7960</th>\n",
       "      <td>7961</td>\n",
       "      <td>0.0</td>\n",
       "      <td>0.0</td>\n",
       "      <td>0.32</td>\n",
       "      <td>0.0</td>\n",
       "      <td>0.0</td>\n",
       "      <td>0.48</td>\n",
       "      <td>0.43</td>\n",
       "      <td>0.0</td>\n",
       "      <td>0.0</td>\n",
       "      <td>0.0</td>\n",
       "      <td>0.22</td>\n",
       "      <td>0.0</td>\n",
       "      <td>0</td>\n",
       "      <td>no_signal</td>\n",
       "    </tr>\n",
       "    <tr>\n",
       "      <th>7961</th>\n",
       "      <td>7962</td>\n",
       "      <td>0.0</td>\n",
       "      <td>0.0</td>\n",
       "      <td>0.23</td>\n",
       "      <td>0.0</td>\n",
       "      <td>0.0</td>\n",
       "      <td>0.57</td>\n",
       "      <td>0.26</td>\n",
       "      <td>0.0</td>\n",
       "      <td>0.0</td>\n",
       "      <td>0.0</td>\n",
       "      <td>0.62</td>\n",
       "      <td>0.0</td>\n",
       "      <td>2</td>\n",
       "      <td>false_positive</td>\n",
       "    </tr>\n",
       "    <tr>\n",
       "      <th>7962</th>\n",
       "      <td>7963</td>\n",
       "      <td>0.0</td>\n",
       "      <td>0.0</td>\n",
       "      <td>0.35</td>\n",
       "      <td>0.0</td>\n",
       "      <td>0.0</td>\n",
       "      <td>0.45</td>\n",
       "      <td>0.52</td>\n",
       "      <td>0.0</td>\n",
       "      <td>0.0</td>\n",
       "      <td>0.0</td>\n",
       "      <td>0.21</td>\n",
       "      <td>0.0</td>\n",
       "      <td>1</td>\n",
       "      <td>partial_signal</td>\n",
       "    </tr>\n",
       "  </tbody>\n",
       "</table>\n",
       "<p>7963 rows × 15 columns</p>\n",
       "</div>"
      ],
      "text/plain": [
       "      cell_id  R224  R225  R223  R227  R228  R226  R230  R231  R229  R233  \\\n",
       "0           1   0.0   0.0  0.40   0.0   0.0  0.40  0.31   0.0   0.0   0.0   \n",
       "1           2   0.0   0.0  0.57   0.0   0.0  0.23  0.31   0.0   0.0   0.0   \n",
       "2           3   0.0   0.0  0.58   0.0   0.0  0.22  0.26   0.0   0.0   0.0   \n",
       "3           4   0.0   0.0  0.40   0.0   0.0  0.40  0.54   0.0   0.0   0.0   \n",
       "4           5   0.0   0.0  0.14   0.0   0.0  0.66  0.58   0.0   0.0   0.0   \n",
       "...       ...   ...   ...   ...   ...   ...   ...   ...   ...   ...   ...   \n",
       "7958     7959   0.0   0.0  0.15   0.0   0.0  0.65  0.57   0.0   0.0   0.0   \n",
       "7959     7960   0.0   0.0  0.55   0.0   0.0  0.25  0.38   0.0   0.0   0.0   \n",
       "7960     7961   0.0   0.0  0.32   0.0   0.0  0.48  0.43   0.0   0.0   0.0   \n",
       "7961     7962   0.0   0.0  0.23   0.0   0.0  0.57  0.26   0.0   0.0   0.0   \n",
       "7962     7963   0.0   0.0  0.35   0.0   0.0  0.45  0.52   0.0   0.0   0.0   \n",
       "\n",
       "      R234  R232  total predicted_sample  \n",
       "0     0.49   0.0      0        no_signal  \n",
       "1     0.39   0.0      1   partial_signal  \n",
       "2     0.29   0.0      1   partial_signal  \n",
       "3     0.57   0.0      2   false_positive  \n",
       "4     0.18   0.0      2         OD_1.1_B  \n",
       "...    ...   ...    ...              ...  \n",
       "7958  0.18   0.0      2         OD_1.1_B  \n",
       "7959  0.53   0.0      2   false_positive  \n",
       "7960  0.22   0.0      0        no_signal  \n",
       "7961  0.62   0.0      2   false_positive  \n",
       "7962  0.21   0.0      1   partial_signal  \n",
       "\n",
       "[7963 rows x 15 columns]"
      ]
     },
     "execution_count": 22,
     "metadata": {},
     "output_type": "execute_result"
    }
   ],
   "source": [
    "cutoff=0.5\n",
    "\n",
    "relevant_cols = ['cell_id'] + pred_cols\n",
    "df = predict_df[relevant_cols]\n",
    "rounded_df = df.copy()\n",
    "\n",
    "rounded_df[pred_cols] = (predict_df[pred_cols] > cutoff).astype(int)\n",
    "\n",
    "df.columns = ['cell_id'] + [col.split('_')[-1] for col in pred_cols]\n",
    "df['total'] = rounded_df.loc[:, df.columns != 'cell_id'].sum(axis=1)\n",
    "df['predicted_sample'] = None\n",
    "\n",
    "for sample, probs in probs_dict.items():\n",
    "    #Round the specific columns\n",
    "    rounded_df = df[probs].round()\n",
    "\n",
    "    #Check if both columns are equal to 1\n",
    "    condition = (rounded_df[probs[0]] == 1) & (rounded_df[probs[1]] == 1)\n",
    "    df.loc[condition, 'predicted_sample'] = sample\n",
    "\n",
    "df.loc[df.total == 0, 'predicted_sample'] = 'no_signal'\n",
    "df.loc[df.total == 1, 'predicted_sample'] = 'partial_signal'\n",
    "df.loc[df.total > 2 , 'predicted_sample'] = 'too_many_signals'\n",
    "df.predicted_sample.fillna(value='false_positive', inplace=True)\n",
    "\n",
    "df"
   ]
  },
  {
   "cell_type": "code",
   "execution_count": null,
   "metadata": {
    "collapsed": false,
    "pycharm": {
     "name": "#%%\n"
    }
   },
   "outputs": [],
   "source": [
    "\n",
    "# Directory where you want to check/create folders\n",
    "base_dir = \"samples_QC\"\n",
    "\n",
    "# Initialize a dictionary to count occurrences of each folder\n",
    "folder_count = {}\n",
    "\n",
    "for index, row in df.iterrows():\n",
    "\n",
    "    folder_name = f\"{row['predicted_sample']}\"\n",
    "    folder_path = os.path.join(base_dir, folder_name)\n",
    "\n",
    "    # Increase the counter for this folder_name or initialize it\n",
    "    if folder_name in folder_count:\n",
    "        folder_count[folder_name] += 1\n",
    "    else:\n",
    "        folder_count[folder_name] = 1\n",
    "\n",
    "    # Skip processing if this folder_name has appeared more than 10 times\n",
    "    if folder_count[folder_name] > 5:\n",
    "        # print(f\"Skipping {folder_name}, as it has been processed more than 10 times.\")\n",
    "        continue\n",
    "\n",
    "    # Check if the folder exists\n",
    "    if not os.path.exists(folder_path):\n",
    "        # Create the folder if it does not exist\n",
    "        os.makedirs(folder_path)\n",
    "\n",
    "\n",
    "    cell_id = row['cell_id']\n",
    "    print(folder_path, cell_id)\n",
    "    utils_train.plot_by_idx(cell_id, temp, to_show, titels, save_path=rf'{folder_path}\\{cell_id}.png')\n"
   ]
  }
 ],
 "metadata": {
  "kernelspec": {
   "display_name": "Python 3",
   "language": "python",
   "name": "python3"
  },
  "language_info": {
   "codemirror_mode": {
    "name": "ipython",
    "version": 3
   },
   "file_extension": ".py",
   "mimetype": "text/x-python",
   "name": "python",
   "nbconvert_exporter": "python",
   "pygments_lexer": "ipython3",
   "version": "3.9.19"
  }
 },
 "nbformat": 4,
 "nbformat_minor": 0
}